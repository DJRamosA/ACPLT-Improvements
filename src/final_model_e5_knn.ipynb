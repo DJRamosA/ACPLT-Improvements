{
 "cells": [
  {
   "cell_type": "code",
   "execution_count": 1,
   "metadata": {},
   "outputs": [
    {
     "name": "stderr",
     "output_type": "stream",
     "text": [
      "c:\\Users\\dra98\\OneDrive\\Documentos\\Trabajo\\Doctorado\\Codigo\\myvenv\\lib\\site-packages\\tqdm\\auto.py:21: TqdmWarning: IProgress not found. Please update jupyter and ipywidgets. See https://ipywidgets.readthedocs.io/en/stable/user_install.html\n",
      "  from .autonotebook import tqdm as notebook_tqdm\n"
     ]
    }
   ],
   "source": [
    "import pandas as pd\n",
    "import numpy as np\n",
    "import random\n",
    "import time\n",
    "from scipy.stats import mode\n",
    "import sys\n",
    "import os\n",
    "\n",
    "sys.path.append(os.path.join(\"..\"))\n",
    "# Word Embedding\n",
    "from sentence_transformers import SentenceTransformer\n",
    "\n",
    "# Created functions\n",
    "from functions.Experimentations import ParamSearch\n",
    "random.seed(0)"
   ]
  },
  {
   "cell_type": "code",
   "execution_count": 2,
   "metadata": {},
   "outputs": [],
   "source": [
    "from collections import Counter \n",
    "\n",
    "def most_frequent(self, List:list) -> list: \n",
    "    \"\"\"\n",
    "    Recives a list of words, and return the word most frequente of\n",
    "    the list\n",
    "    \"\"\"\n",
    "    # counter of occurence of a code in a list\n",
    "    occurence_count = Counter(List) \n",
    "\n",
    "    # Return the first code with more occurence\n",
    "    return occurence_count.most_common"
   ]
  },
  {
   "cell_type": "code",
   "execution_count": 3,
   "metadata": {},
   "outputs": [],
   "source": [
    "vector_length = 768"
   ]
  },
  {
   "cell_type": "code",
   "execution_count": 4,
   "metadata": {},
   "outputs": [
    {
     "data": {
      "text/html": [
       "<div>\n",
       "<style scoped>\n",
       "    .dataframe tbody tr th:only-of-type {\n",
       "        vertical-align: middle;\n",
       "    }\n",
       "\n",
       "    .dataframe tbody tr th {\n",
       "        vertical-align: top;\n",
       "    }\n",
       "\n",
       "    .dataframe thead th {\n",
       "        text-align: right;\n",
       "    }\n",
       "</style>\n",
       "<table border=\"1\" class=\"dataframe\">\n",
       "  <thead>\n",
       "    <tr style=\"text-align: right;\">\n",
       "      <th></th>\n",
       "      <th>Palabra (concepto)</th>\n",
       "      <th>Descripción</th>\n",
       "      <th>Codificación</th>\n",
       "    </tr>\n",
       "  </thead>\n",
       "  <tbody>\n",
       "    <tr>\n",
       "      <th>0</th>\n",
       "      <td>Compasión</td>\n",
       "      <td>sentimiento</td>\n",
       "      <td>sentimiento</td>\n",
       "    </tr>\n",
       "    <tr>\n",
       "      <th>1</th>\n",
       "      <td>Compasión</td>\n",
       "      <td>por lo que se le perdona la vida a alguien en ...</td>\n",
       "      <td>perdón</td>\n",
       "    </tr>\n",
       "    <tr>\n",
       "      <th>2</th>\n",
       "      <td>plan</td>\n",
       "      <td>necesario para cumplir objetivos</td>\n",
       "      <td>objetivos</td>\n",
       "    </tr>\n",
       "    <tr>\n",
       "      <th>3</th>\n",
       "      <td>plan</td>\n",
       "      <td>organizar recursos o personas</td>\n",
       "      <td>organización</td>\n",
       "    </tr>\n",
       "    <tr>\n",
       "      <th>4</th>\n",
       "      <td>plan</td>\n",
       "      <td>estrategia</td>\n",
       "      <td>estrategia</td>\n",
       "    </tr>\n",
       "    <tr>\n",
       "      <th>...</th>\n",
       "      <td>...</td>\n",
       "      <td>...</td>\n",
       "      <td>...</td>\n",
       "    </tr>\n",
       "    <tr>\n",
       "      <th>4933</th>\n",
       "      <td>Obligación</td>\n",
       "      <td>imposicion</td>\n",
       "      <td>imposición</td>\n",
       "    </tr>\n",
       "    <tr>\n",
       "      <th>4934</th>\n",
       "      <td>Obligación</td>\n",
       "      <td>carácter extricto</td>\n",
       "      <td>extricto</td>\n",
       "    </tr>\n",
       "    <tr>\n",
       "      <th>4935</th>\n",
       "      <td>Obligación</td>\n",
       "      <td>normas</td>\n",
       "      <td>normas</td>\n",
       "    </tr>\n",
       "    <tr>\n",
       "      <th>4936</th>\n",
       "      <td>Obligación</td>\n",
       "      <td>deberes</td>\n",
       "      <td>deber</td>\n",
       "    </tr>\n",
       "    <tr>\n",
       "      <th>4937</th>\n",
       "      <td>Obligación</td>\n",
       "      <td>acto impuesto por algo o alguien</td>\n",
       "      <td>imposición</td>\n",
       "    </tr>\n",
       "  </tbody>\n",
       "</table>\n",
       "<p>4938 rows × 3 columns</p>\n",
       "</div>"
      ],
      "text/plain": [
       "     Palabra (concepto)                                        Descripción  \\\n",
       "0            Compasión                                         sentimiento   \n",
       "1            Compasión   por lo que se le perdona la vida a alguien en ...   \n",
       "2                  plan                   necesario para cumplir objetivos   \n",
       "3                  plan                      organizar recursos o personas   \n",
       "4                  plan                                         estrategia   \n",
       "...                 ...                                                ...   \n",
       "4933         Obligación                                         imposicion   \n",
       "4934         Obligación                                  carácter extricto   \n",
       "4935         Obligación                                             normas   \n",
       "4936         Obligación                                            deberes   \n",
       "4937         Obligación                   acto impuesto por algo o alguien   \n",
       "\n",
       "      Codificación  \n",
       "0      sentimiento  \n",
       "1           perdón  \n",
       "2        objetivos  \n",
       "3     organización  \n",
       "4       estrategia  \n",
       "...            ...  \n",
       "4933    imposición  \n",
       "4934      extricto  \n",
       "4935        normas  \n",
       "4936         deber  \n",
       "4937    imposición  \n",
       "\n",
       "[4938 rows x 3 columns]"
      ]
     },
     "execution_count": 4,
     "metadata": {},
     "output_type": "execute_result"
    }
   ],
   "source": [
    "# Data import\n",
    "# Relative Path of the dataset, change for your dataset\n",
    "dataset_name = \"cpn27\"\n",
    "file_path = '../data/raw_dataset/normalize/'\n",
    "\n",
    "if dataset_name == \"cpn27\":\n",
    "    # data = pd.read_csv(file_path+'CPN27_lemma.csv', delimiter=\",\")\n",
    "    data = pd.read_csv(file_path+'CPN27_normalize.csv', delimiter=\",\")\n",
    "    \n",
    "elif dataset_name == \"cpn120\":\n",
    "    data = pd.read_csv(file_path+'CPN120_normalize.csv', delimiter=\",\")\n",
    "\n",
    "# else:\n",
    "#     data = pd.read_csv(r'your-path/your-file.csv', delimiter=\",\")\n",
    "\n",
    "data.fillna(value='')\n"
   ]
  },
  {
   "cell_type": "code",
   "execution_count": 20,
   "metadata": {},
   "outputs": [],
   "source": [
    "# model = SentenceTransformer('intfloat/multilingual-e5-base')\n",
    "model = SentenceTransformer('intfloat/e5-base-v2')"
   ]
  },
  {
   "cell_type": "code",
   "execution_count": 21,
   "metadata": {},
   "outputs": [
    {
     "name": "stdout",
     "output_type": "stream",
     "text": [
      "Exceution time: 151.56394481658936\n"
     ]
    }
   ],
   "source": [
    "# Timer\n",
    "start = time.time()\n",
    "\n",
    "descriptions_matrix = np.zeros( # creatign an empty matrix\n",
    "    (\n",
    "        len(data),          # the number of data points\n",
    "        vector_length       # the number of components of the word embedding\n",
    "    )\n",
    ")\n",
    "\n",
    "# Matrix filling \n",
    "# Change to the name of the descriptions of your dataset.\n",
    "for i,description in enumerate(data.iloc[:,1]):\n",
    "    vector = model.encode(description)\n",
    "    descriptions_matrix[i,] = vector\n",
    "\n",
    "# Concatenate the matrix with the data of each observation\n",
    "data_matrix = np.concatenate([descriptions_matrix,data], axis=1)\n",
    "\n",
    "\n",
    "# Remove of the 'Nan' data\n",
    "data_matrix = data_matrix[~pd.isnull(data_matrix[:,:vector_length]).any(axis=1)]\n",
    "\n",
    "\n",
    "end = time.time()\n",
    "print(\"Exceution time:\", end-start)"
   ]
  },
  {
   "cell_type": "code",
   "execution_count": 22,
   "metadata": {},
   "outputs": [],
   "source": [
    "def acc_top_n(pred_val, true_val, top = 1):\n",
    "    acc = 0\n",
    "    for i in range(len(true_val)):\n",
    "        occurence_count = Counter(pred_val[i]) \n",
    "        for code in occurence_count.most_common(top):\n",
    "            if code[0] == true_val[i]:\n",
    "                acc += 1\n",
    "                break\n",
    "            else:\n",
    "                pass\n",
    "    return acc"
   ]
  },
  {
   "cell_type": "code",
   "execution_count": 23,
   "metadata": {},
   "outputs": [
    {
     "name": "stderr",
     "output_type": "stream",
     "text": [
      "c:\\Users\\dra98\\OneDrive\\Documentos\\Trabajo\\Doctorado\\Codigo\\myvenv\\lib\\site-packages\\sklearn\\model_selection\\_split.py:700: UserWarning: The least populated class in y has only 1 members, which is less than n_splits=5.\n",
      "  warnings.warn(\n"
     ]
    }
   ],
   "source": [
    "from sklearn.neighbors import KNeighborsClassifier\n",
    "from sklearn.model_selection import StratifiedKFold\n",
    "\n",
    "accuracies = np.zeros((5,3))\n",
    "\n",
    "cross_validation = StratifiedKFold(n_splits = 5)\n",
    "\n",
    "X = data_matrix[:, :vector_length] \n",
    "y = data_matrix[:, vector_length+2]\n",
    "\n",
    "\n",
    "for c, (train_index, test_index) in enumerate(cross_validation.split(X, y)):\n",
    "\n",
    "\n",
    "    X_train = X[train_index, :]\n",
    "    y_train = y[train_index]\n",
    "\n",
    "    X_test = X[test_index, :]\n",
    "    y_test = y[test_index]\n",
    "\n",
    "    knn = KNeighborsClassifier(n_neighbors=10)\n",
    "    knn.fit(X_train, y_train)\n",
    "\n",
    "    distance, index = knn.kneighbors(X=X_test, n_neighbors=10)\n",
    "\n",
    "    pred_ranking = y_train[index]\n",
    "\n",
    "        \n",
    "    accuracies[c][0]=acc_top_n(pred_ranking, y_test, 1)/len(y_test)\n",
    "    accuracies[c][1]=acc_top_n(pred_ranking, y_test, 3)/len(y_test)\n",
    "    accuracies[c][2]=acc_top_n(pred_ranking, y_test, 5)/len(y_test)\n",
    "\n",
    "    # break"
   ]
  },
  {
   "cell_type": "code",
   "execution_count": 24,
   "metadata": {},
   "outputs": [],
   "source": [
    "pd.DataFrame(\n",
    "    np.array([['top-1', 'top-3', 'top-5'], accuracies.mean(axis=0), accuracies.std(axis=0)]).T,\n",
    "    columns=['top position', 'mean accuracy', 'standar desviation']\n",
    "    ).to_csv(f'../data/experiment-top5/{dataset_name}_top5.csv', index=False)"
   ]
  },
  {
   "cell_type": "code",
   "execution_count": null,
   "metadata": {},
   "outputs": [],
   "source": []
  },
  {
   "cell_type": "code",
   "execution_count": null,
   "metadata": {},
   "outputs": [],
   "source": []
  }
 ],
 "metadata": {
  "kernelspec": {
   "display_name": "myvenv",
   "language": "python",
   "name": "python3"
  },
  "language_info": {
   "codemirror_mode": {
    "name": "ipython",
    "version": 3
   },
   "file_extension": ".py",
   "mimetype": "text/x-python",
   "name": "python",
   "nbconvert_exporter": "python",
   "pygments_lexer": "ipython3",
   "version": "3.10.9"
  }
 },
 "nbformat": 4,
 "nbformat_minor": 2
}
