{
 "cells": [
  {
   "cell_type": "code",
   "execution_count": null,
   "metadata": {},
   "outputs": [],
   "source": [
    "import os\n",
    "import openai\n",
    "from dotenv import load_dotenv, find_dotenv\n",
    "import pandas as pd\n",
    "import numpy as np\n",
    "import time\n",
    "import glob"
   ]
  },
  {
   "cell_type": "code",
   "execution_count": null,
   "metadata": {},
   "outputs": [],
   "source": [
    "# Import de las propiedades originales con sus codigos\n",
    "test_files = []\n",
    "\n",
    "for i in range(5):\n",
    "    folder = glob.glob(f'ChatGPT_inputs/input_fold{i}_*')\n",
    "    test_files.append(folder)\n",
    "\n",
    "# Import de los datos generados por chat-gpt 3.5\n",
    "pred_files = []\n",
    "\n",
    "for i in range(5):\n",
    "    folder = glob.glob(f'ChatGPT_output/output_fold{i}_*')\n",
    "    pred_files.append(folder)"
   ]
  },
  {
   "cell_type": "code",
   "execution_count": null,
   "metadata": {},
   "outputs": [],
   "source": [
    "\n",
    "\n"
   ]
  }
 ],
 "metadata": {
  "language_info": {
   "name": "python"
  }
 },
 "nbformat": 4,
 "nbformat_minor": 2
}
