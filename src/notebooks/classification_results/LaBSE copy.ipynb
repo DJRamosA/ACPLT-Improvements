{
 "cells": [
  {
   "cell_type": "code",
   "execution_count": 1,
   "metadata": {},
   "outputs": [
    {
     "name": "stderr",
     "output_type": "stream",
     "text": [
      "c:\\Users\\dra98\\OneDrive\\Documentos\\Trabajo\\Doctorado\\Codigo\\myvenv\\lib\\site-packages\\tqdm\\auto.py:21: TqdmWarning: IProgress not found. Please update jupyter and ipywidgets. See https://ipywidgets.readthedocs.io/en/stable/user_install.html\n",
      "  from .autonotebook import tqdm as notebook_tqdm\n"
     ]
    }
   ],
   "source": [
    "import pandas as pd\n",
    "import numpy as np\n",
    "import random\n",
    "import time\n",
    "import sys\n",
    "import os\n",
    "\n",
    "sys.path.append(os.path.join(\"..\", \"..\"))\n",
    "\n",
    "# Word Embedding\n",
    "from sentence_transformers import SentenceTransformer\n",
    "\n",
    "# Created functions\n",
    "from functions.Experimentations import ParamSearch\n",
    "random.seed(0)"
   ]
  },
  {
   "cell_type": "code",
   "execution_count": null,
   "metadata": {},
   "outputs": [],
   "source": [
    "vector_length = 768"
   ]
  },
  {
   "cell_type": "markdown",
   "metadata": {},
   "source": [
    "# Data Import"
   ]
  },
  {
   "cell_type": "code",
   "execution_count": null,
   "metadata": {},
   "outputs": [],
   "source": [
    "# Data import\n",
    "# Relative Path of the dataset, change for your dataset\n",
    "\n",
    "dataset_name_cpn27 = \"cpn27\"\n",
    "dataset_name_cpn120 = \"cpn120\"\n",
    "# Options are \"cpn27\" and \"cpn120\"\n",
    "\n",
    "type_standardization = \"normalize\" \n",
    "# options are \"raw\", \"normalize\", \"normalize_wo_stop\", and \"lemmatize\"\n",
    "\n",
    "# import of the data\n",
    "data_cpn27 = pd.read_csv(f\"normalize/{dataset_name_cpn27.upper()}_{type_standardization}.csv\", delimiter=\",\")\n",
    "data_cpn27 = data_cpn27.fillna(value='')\n",
    "\n",
    "data_cpn120 = pd.read_csv(f\"normalize/{dataset_name_cpn120.upper()}_{type_standardization}.csv\", delimiter=\",\")\n",
    "data_cpn120 = data_cpn120.fillna(value='')"
   ]
  },
  {
   "cell_type": "markdown",
   "metadata": {},
   "source": [
    "# Model"
   ]
  },
  {
   "cell_type": "code",
   "execution_count": 4,
   "metadata": {},
   "outputs": [],
   "source": [
    "model = SentenceTransformer('sentence-transformers/LaBSE')"
   ]
  },
  {
   "cell_type": "code",
   "execution_count": null,
   "metadata": {},
   "outputs": [
    {
     "name": "stdout",
     "output_type": "stream",
     "text": [
      "Exceution time: 223.61245012283325\n"
     ]
    }
   ],
   "source": [
    "# Timer\n",
    "start = time.time()\n",
    "\n",
    "# Creation of a matrix full of 0 to save the vectors of each feature\n",
    "descriptions_matrix = np.zeros( \n",
    "    (\n",
    "        data_cpn27.shape[0], # the number of data points\n",
    "        vector_length # the number of components of the word embedding\n",
    "    )\n",
    ")\n",
    "\n",
    "# Matrix filling with the vectors of each point\n",
    "for i,description in enumerate(data_cpn27.iloc[:,1]):\n",
    "    vector = model.encode(description)\n",
    "    descriptions_matrix[i,] = vector\n",
    "\n",
    "# Concatenate the matrix with the data of each observation\n",
    "data_matrix_cpn27 = np.concatenate([descriptions_matrix,data_cpn27], axis=1)\n",
    "\n",
    "# Remove of the 'Nan' values in the data\n",
    "data_matrix_cpn27 = data_matrix_cpn27[~pd.isnull(data_matrix_cpn27[:,:vector_length]).any(axis=1)]\n",
    "\n",
    "\n",
    "end = time.time()\n",
    "print(\"Execution time:\", end-start)"
   ]
  },
  {
   "cell_type": "code",
   "execution_count": null,
   "metadata": {},
   "outputs": [],
   "source": [
    "# Timer\n",
    "start = time.time()\n",
    "\n",
    "# Creation of a matrix full of 0 to save the vectors of each feature\n",
    "descriptions_matrix = np.zeros( \n",
    "    (\n",
    "        data_cpn120.shape[0], # the number of data points\n",
    "        vector_length # the number of components of the word embedding\n",
    "    )\n",
    ")\n",
    "\n",
    "# Matrix filling with the vectors of each point\n",
    "for i,description in enumerate(data_cpn27.iloc[:,1]):\n",
    "    vector = model.encode(description)\n",
    "    descriptions_matrix[i,] = vector\n",
    "\n",
    "# Concatenate the matrix with the data of each observation\n",
    "data_matrix_cpn120 = np.concatenate([descriptions_matrix,data_cpn120], axis=1)\n",
    "\n",
    "# Remove of the 'Nan' values in the data\n",
    "data_matrix_cpn120 = data_matrix_cpn120[~pd.isnull(data_matrix_cpn120[:,:vector_length]).any(axis=1)]\n",
    "\n",
    "\n",
    "end = time.time()\n",
    "print(\"Execution time:\", end-start)"
   ]
  },
  {
   "cell_type": "markdown",
   "metadata": {},
   "source": [
    "# AC-PLT"
   ]
  },
  {
   "cell_type": "code",
   "execution_count": null,
   "metadata": {},
   "outputs": [
    {
     "name": "stderr",
     "output_type": "stream",
     "text": [
      "c:\\Users\\dra98\\OneDrive\\Documentos\\Trabajo\\Doctorado\\Codigo\\myvenv\\lib\\site-packages\\sklearn\\model_selection\\_split.py:700: UserWarning: The least populated class in y has only 1 members, which is less than n_splits=5.\n",
      "  warnings.warn(\n",
      "c:\\Users\\dra98\\OneDrive\\Documentos\\Trabajo\\Doctorado\\Codigo\\myvenv\\lib\\site-packages\\sklearn\\model_selection\\_split.py:700: UserWarning: The least populated class in y has only 1 members, which is less than n_splits=5.\n",
      "  warnings.warn(\n",
      "c:\\Users\\dra98\\OneDrive\\Documentos\\Trabajo\\Doctorado\\Codigo\\myvenv\\lib\\site-packages\\sklearn\\model_selection\\_split.py:700: UserWarning: The least populated class in y has only 1 members, which is less than n_splits=5.\n",
      "  warnings.warn(\n",
      "c:\\Users\\dra98\\OneDrive\\Documentos\\Trabajo\\Doctorado\\Codigo\\myvenv\\lib\\site-packages\\sklearn\\model_selection\\_split.py:700: UserWarning: The least populated class in y has only 1 members, which is less than n_splits=5.\n",
      "  warnings.warn(\n",
      "c:\\Users\\dra98\\OneDrive\\Documentos\\Trabajo\\Doctorado\\Codigo\\myvenv\\lib\\site-packages\\sklearn\\model_selection\\_split.py:700: UserWarning: The least populated class in y has only 1 members, which is less than n_splits=5.\n",
      "  warnings.warn(\n",
      "c:\\Users\\dra98\\OneDrive\\Documentos\\Trabajo\\Doctorado\\Codigo\\myvenv\\lib\\site-packages\\sklearn\\model_selection\\_split.py:700: UserWarning: The least populated class in y has only 1 members, which is less than n_splits=5.\n",
      "  warnings.warn(\n",
      "c:\\Users\\dra98\\OneDrive\\Documentos\\Trabajo\\Doctorado\\Codigo\\myvenv\\lib\\site-packages\\sklearn\\model_selection\\_split.py:700: UserWarning: The least populated class in y has only 1 members, which is less than n_splits=5.\n",
      "  warnings.warn(\n",
      "c:\\Users\\dra98\\OneDrive\\Documentos\\Trabajo\\Doctorado\\Codigo\\myvenv\\lib\\site-packages\\sklearn\\model_selection\\_split.py:700: UserWarning: The least populated class in y has only 1 members, which is less than n_splits=5.\n",
      "  warnings.warn(\n",
      "c:\\Users\\dra98\\OneDrive\\Documentos\\Trabajo\\Doctorado\\Codigo\\myvenv\\lib\\site-packages\\sklearn\\model_selection\\_split.py:700: UserWarning: The least populated class in y has only 1 members, which is less than n_splits=5.\n",
      "  warnings.warn(\n",
      "c:\\Users\\dra98\\OneDrive\\Documentos\\Trabajo\\Doctorado\\Codigo\\myvenv\\lib\\site-packages\\sklearn\\model_selection\\_split.py:700: UserWarning: The least populated class in y has only 1 members, which is less than n_splits=5.\n",
      "  warnings.warn(\n",
      "c:\\Users\\dra98\\OneDrive\\Documentos\\Trabajo\\Doctorado\\Codigo\\myvenv\\lib\\site-packages\\sklearn\\model_selection\\_split.py:700: UserWarning: The least populated class in y has only 1 members, which is less than n_splits=5.\n",
      "  warnings.warn(\n",
      "c:\\Users\\dra98\\OneDrive\\Documentos\\Trabajo\\Doctorado\\Codigo\\myvenv\\lib\\site-packages\\sklearn\\model_selection\\_split.py:700: UserWarning: The least populated class in y has only 1 members, which is less than n_splits=5.\n",
      "  warnings.warn(\n"
     ]
    },
    {
     "data": {
      "text/plain": [
       "<functions.Experimentations.ParamSearch at 0x235d2a7a650>"
      ]
     },
     "execution_count": 6,
     "metadata": {},
     "output_type": "execute_result"
    }
   ],
   "source": [
    "from functions.Experimentations import ParamSearch\n",
    "from functions.AC_PLT import AC_PLT\n",
    "\n",
    "parameters = {'n_clusters': np.arange(50, 1800, 50)}\n",
    "ac_plt = AC_PLT()\n",
    "\n",
    "file_name_cpn27 = \"results/\"+r'{}_{}_{}_results.csv'.format(dataset_name_cpn27, type_standardization, ac_plt.__class__.__name__)\n",
    "\n",
    "clf_acplt = ParamSearch(ac_plt, parameters)\n",
    "clf_acplt.fit(data_matrix_cpn27[:, :vector_length], data_matrix_cpn27[:, vector_length+2],file_name_cpn27)\n",
    "\n",
    "\n",
    "\n",
    "file_name_cpn120 = \"results/\"+r'{}_{}_{}_results.csv'.format(dataset_name_cpn120, type_standardization, ac_plt.__class__.__name__)\n",
    "\n",
    "clf_acplt = ParamSearch(ac_plt, parameters)\n",
    "clf_acplt.fit(data_matrix_cpn120[:, :vector_length], data_matrix_cpn120[:, vector_length+2],file_name_cpn120)"
   ]
  },
  {
   "cell_type": "markdown",
   "metadata": {},
   "source": [
    "# Naive Bayes"
   ]
  },
  {
   "cell_type": "code",
   "execution_count": null,
   "metadata": {},
   "outputs": [],
   "source": [
    "from functions.Experimentations import ParamSearch\n",
    "from sklearn.naive_bayes import GaussianNB\n",
    "\n",
    "# parameters = {'var_smoothing': np.geomspace(1e-06, 1e+02, num=9)}\n",
    "parameters = {'var_smoothing': (5, 10, 20, 30, 40, 50, 60, 70, 80, 90)}\n",
    "proc = GaussianNB()\n",
    "\n",
    "file_name_cpn27 = \"results/\"+r'{}_{}_{}_results.csv'.format(dataset_name_cpn27, type_standardization, proc.__class__.__name__)\n",
    "\n",
    "clf = ParamSearch(proc, parameters)\n",
    "clf.fit(data_matrix_cpn27[:, :vector_length], data_matrix_cpn27[:, vector_length+2],file_name_cpn27)\n",
    "\n",
    "\n",
    "file_name_cpn120 = \"results/\"+r'{}_{}_{}_results.csv'.format(dataset_name_cpn120, type_standardization, proc.__class__.__name__)\n",
    "\n",
    "clf = ParamSearch(proc, parameters)\n",
    "clf.fit(data_matrix_cpn120[:, :vector_length], data_matrix_cpn120[:, vector_length+2],file_name_cpn120)"
   ]
  },
  {
   "cell_type": "markdown",
   "metadata": {},
   "source": [
    "# SVC"
   ]
  },
  {
   "cell_type": "code",
   "execution_count": null,
   "metadata": {},
   "outputs": [],
   "source": [
    "from functions.Experimentations import ParamSearch\n",
    "from sklearn.svm import SVC\n",
    "\n",
    "kernel='rbf'\n",
    "parameters = {'C': np.geomspace(1e-03, 1e+01, num=6)}\n",
    "svc_rbf = SVC(kernel=kernel, gamma='auto')\n",
    "file_name_cpn27 = \"results/\"+r'{}_{}_{}_{}_results.csv'.format(dataset_name_cpn27, type_standardization, svc_rbf.__class__.__name__, kernel)\n",
    "\n",
    "clf_acplt = ParamSearch(svc_rbf, parameters)\n",
    "clf_acplt.fit(data_matrix_cpn27[:, :vector_length], data_matrix_cpn27[:, vector_length+2],file_name_cpn27)\n",
    "\n",
    "file_name_cpn120 = \"results/\"+r'{}_{}_{}_{}_results.csv'.format(dataset_name_cpn120, type_standardization, svc_rbf.__class__.__name__, kernel)\n",
    "\n",
    "clf_acplt = ParamSearch(svc_rbf, parameters)\n",
    "clf_acplt.fit(data_matrix_cpn120[:, :vector_length], data_matrix_cpn120[:, vector_length+2],file_name_cpn120)"
   ]
  },
  {
   "cell_type": "code",
   "execution_count": null,
   "metadata": {},
   "outputs": [],
   "source": [
    "from functions.Experimentations import ParamSearch\n",
    "from sklearn.svm import SVC\n",
    "\n",
    "kernel='rbf'\n",
    "parameters = {'C': np.geomspace(1e02, 1e+04, num=4)}\n",
    "svc_rbf = SVC(kernel=kernel, gamma='auto')\n",
    "file_name_cpn27 = \"results/\"+r'{}_{}_{}_{}_results.csv'.format(dataset_name_cpn27, type_standardization, svc_rbf.__class__.__name__, kernel)\n",
    "\n",
    "clf_acplt = ParamSearch(svc_rbf, parameters)\n",
    "clf_acplt.fit(data_matrix_cpn27[:, :vector_length], data_matrix_cpn27[:, vector_length+2],file_name_cpn27)\n",
    "\n",
    "file_name_cpn120 = \"results/\"+r'{}_{}_{}_{}_results.csv'.format(dataset_name_cpn120, type_standardization, svc_rbf.__class__.__name__, kernel)\n",
    "\n",
    "clf_acplt = ParamSearch(svc_rbf, parameters)\n",
    "clf_acplt.fit(data_matrix_cpn120[:, :vector_length], data_matrix_cpn120[:, vector_length+2],file_name_cpn120)"
   ]
  },
  {
   "cell_type": "code",
   "execution_count": null,
   "metadata": {},
   "outputs": [],
   "source": [
    "from functions.Experimentations import ParamSearch\n",
    "from sklearn.svm import SVC\n",
    "\n",
    "kernel='linear'\n",
    "# parameters = {'C': np.geomspace(1e-05, 1e+01, num=7)}\n",
    "parameters = {'C': [1, 2, 3, 4, 5, 6]}\n",
    "svc_rbf = SVC(kernel=kernel, gamma='auto')\n",
    "\n",
    "file_name_cpn27 = \"results/\"+r'{}_{}_{}_{}_results.csv'.format(dataset_name_cpn27, type_standardization, svc_rbf.__class__.__name__, kernel)\n",
    "\n",
    "clf_acplt = ParamSearch(svc_rbf, parameters)\n",
    "clf_acplt.fit(data_matrix_cpn27[:, :vector_length], data_matrix_cpn27[:, vector_length+2],file_name_cpn27)\n",
    "\n",
    "file_name_cpn120 = \"results/\"+r'{}_{}_{}_{}_results.csv'.format(dataset_name_cpn120, type_standardization, svc_rbf.__class__.__name__, kernel)\n",
    "\n",
    "clf_acplt = ParamSearch(svc_rbf, parameters)\n",
    "clf_acplt.fit(data_matrix_cpn120[:, :vector_length], data_matrix_cpn120[:, vector_length+2],file_name_cpn120)\n",
    "\n",
    "# clf_acplt.to_csv()"
   ]
  },
  {
   "cell_type": "code",
   "execution_count": null,
   "metadata": {},
   "outputs": [],
   "source": [
    "from functions.Experimentations import ParamSearch\n",
    "from sklearn.svm import SVC\n",
    "\n",
    "kernel='poly'\n",
    "parameters = {'degree': np.arange(1,7)}\n",
    "svc_rbf = SVC(kernel=kernel, gamma='auto')\n",
    "file_name_cpn27 = \"results/\"+r'{}_{}_{}_{}_results.csv'.format(dataset_name_cpn27, type_standardization, svc_rbf.__class__.__name__, kernel)\n",
    "\n",
    "clf_acplt = ParamSearch(svc_rbf, parameters)\n",
    "clf_acplt.fit(data_matrix_cpn27[:, :vector_length], data_matrix_cpn27[:, vector_length+2],file_name_cpn27)\n",
    "\n",
    "file_name_cpn120 = \"results/\"+r'{}_{}_{}_{}_results.csv'.format(dataset_name_cpn120, type_standardization, svc_rbf.__class__.__name__, kernel)\n",
    "\n",
    "clf_acplt = ParamSearch(svc_rbf, parameters)\n",
    "clf_acplt.fit(data_matrix_cpn120[:, :vector_length], data_matrix_cpn120[:, vector_length+2],file_name_cpn120)"
   ]
  },
  {
   "cell_type": "code",
   "execution_count": null,
   "metadata": {},
   "outputs": [],
   "source": [
    "from functions.Experimentations import ParamSearch\n",
    "from sklearn.svm import SVC\n",
    "\n",
    "kernel='sigmoid'\n",
    "parameters = {'C': np.geomspace(1e-05, 1e+01, num=7)}\n",
    "svc_rbf = SVC(kernel=kernel, gamma='auto')\n",
    "file_name_cpn27 = \"results/\"+r'{}_{}_{}_{}_results.csv'.format(dataset_name_cpn27, type_standardization, svc_rbf.__class__.__name__, kernel)\n",
    "\n",
    "clf_acplt = ParamSearch(svc_rbf, parameters)\n",
    "clf_acplt.fit(data_matrix_cpn27[:, :vector_length], data_matrix_cpn27[:, vector_length+2],file_name_cpn27)\n",
    "\n",
    "file_name_cpn120 = \"results/\"+r'{}_{}_{}_{}_results.csv'.format(dataset_name_cpn120, type_standardization, svc_rbf.__class__.__name__, kernel)\n",
    "\n",
    "clf_acplt = ParamSearch(svc_rbf, parameters)\n",
    "clf_acplt.fit(data_matrix_cpn120[:, :vector_length], data_matrix_cpn120[:, vector_length+2],file_name_cpn120)"
   ]
  },
  {
   "cell_type": "markdown",
   "metadata": {},
   "source": [
    "# Decision Tree"
   ]
  },
  {
   "cell_type": "code",
   "execution_count": null,
   "metadata": {},
   "outputs": [],
   "source": [
    "from functions.Experimentations import ParamSearch\n",
    "from sklearn.tree import DecisionTreeClassifier\n",
    "\n",
    "criterion = 'gini'\n",
    "parameters = {'max_leaf_nodes': np.arange(100, 1001, 100)}\n",
    "desition_tree = DecisionTreeClassifier(criterion=criterion)\n",
    "file_name_cpn27 = \"results/\"+r'{}_{}_{}_{}_results.csv'.format(dataset_name_cpn27, type_standardization, desition_tree.__class__.__name__, criterion)\n",
    "\n",
    "clf_acplt = ParamSearch(desition_tree, parameters)\n",
    "clf_acplt.fit(data_matrix_cpn27[:, :vector_length], data_matrix_cpn27[:, vector_length+2],file_name_cpn27)\n",
    "\n",
    "file_name_cpn120 = \"results/\"+r'{}_{}_{}_{}_results.csv'.format(dataset_name_cpn120, type_standardization, desition_tree.__class__.__name__, criterion)\n",
    "\n",
    "clf_acplt = ParamSearch(desition_tree, parameters)\n",
    "clf_acplt.fit(data_matrix_cpn120[:, :vector_length], data_matrix_cpn120[:, vector_length+2],file_name_cpn120)\n"
   ]
  },
  {
   "cell_type": "markdown",
   "metadata": {},
   "source": [
    "# KNN"
   ]
  },
  {
   "cell_type": "code",
   "execution_count": null,
   "metadata": {},
   "outputs": [],
   "source": [
    "from functions.Experimentations import ParamSearch\n",
    "from sklearn.neighbors import KNeighborsClassifier\n",
    "\n",
    "parameters = {'n_neighbors': np.arange(10, 501, 10)}\n",
    "knn = KNeighborsClassifier()\n",
    "file_name_cpn27 = \"results/\"+r'{}_{}_{}_results.csv'.format(dataset_name_cpn27, type_standardization, knn.__class__.__name__)\n",
    "\n",
    "clf_acplt = ParamSearch(knn, parameters)\n",
    "clf_acplt.fit(data_matrix_cpn27[:, :vector_length], data_matrix_cpn27[:, vector_length+2],file_name_cpn27)\n",
    "\n",
    "\n",
    "file_name_cpn120 = \"results/\"+r'{}_{}_{}_results.csv'.format(dataset_name_cpn120, type_standardization, knn.__class__.__name__)\n",
    "\n",
    "clf_acplt = ParamSearch(knn, parameters)\n",
    "clf_acplt.fit(data_matrix_cpn120[:, :vector_length], data_matrix_cpn120[:, vector_length+2],file_name_cpn120)"
   ]
  },
  {
   "cell_type": "markdown",
   "metadata": {},
   "source": [
    "# XGBoost\n"
   ]
  },
  {
   "cell_type": "markdown",
   "metadata": {},
   "source": [
    "## CPN27\n"
   ]
  },
  {
   "cell_type": "code",
   "execution_count": null,
   "metadata": {},
   "outputs": [],
   "source": [
    "cod = pd.DataFrame(data_matrix_cpn27).iloc[:,vector_length+2].value_counts()\n",
    "reduce_cod = cod[cod<5]\n",
    "n=5\n",
    "data_fill_cpn27 = pd.DataFrame(data_matrix_cpn27).copy()\n",
    "\n",
    "for key, value in reduce_cod.items():\n",
    "    m=np.abs(n-value)\n",
    "    nrow = np.zeros(vector_length)\n",
    "    nrow = np.concatenate([nrow, np.array(['', '', key])])\n",
    "    for i in range(m): data_fill_cpn27 = np.vstack([data_fill_cpn27,nrow])"
   ]
  },
  {
   "cell_type": "code",
   "execution_count": null,
   "metadata": {},
   "outputs": [],
   "source": [
    "y = data_fill_cpn27[:, vector_length+2]\n",
    "\n",
    "labels = np.unique(y)\n",
    "i=0\n",
    "idx2class = {}\n",
    "class2idx= {}\n",
    "for tp in labels:\n",
    "    idx2class[i] = tp\n",
    "    class2idx[tp] = i\n",
    "    i += 1\n",
    "\n",
    "y_label = np.vectorize(class2idx.get)(y)"
   ]
  },
  {
   "cell_type": "code",
   "execution_count": null,
   "metadata": {},
   "outputs": [],
   "source": [
    "from xgboost import XGBClassifier\n",
    "from functions.Experimentations import ParamSearch\n",
    "\n",
    "max_levels = [5,10,50,100]\n",
    "\n",
    "parameters = {'max_depth': max_levels, 'n_estimators': np.arange(1, 16, 1)}\n",
    "\n",
    "bst = XGBClassifier(learning_rate=1, objective='multi:softprob', random_state=0)\n",
    "file_name_cpn27 = \"results/\"+r'{}_{}_{}_results.csv'.format(dataset_name_cpn27, type_standardization, bst.__class__.__name__)\n",
    "\n",
    "clf_acplt = ParamSearch(bst, parameters)\n",
    "clf_acplt.fit(data_fill_cpn27[:, :vector_length], y_label, file_name_cpn27)\n"
   ]
  },
  {
   "cell_type": "code",
   "execution_count": null,
   "metadata": {},
   "outputs": [],
   "source": [
    "from sklearn.ensemble import RandomForestClassifier\n",
    "from functions.Experimentations import ParamSearch\n",
    "\n",
    "max_levels = [5,10,50,100]\n",
    "\n",
    "parameters = {'max_depth': max_levels}\n",
    "rndforest = RandomForestClassifier(random_state=0)\n",
    "file_name_cpn27 = \"results/\"+r'{}_{}_{}_results.csv'.format(dataset_name_cpn27, type_standardization, rndforest.__class__.__name__)\n",
    "\n",
    "clf_acplt = ParamSearch(rndforest, parameters)\n",
    "clf_acplt.fit(data_fill_cpn27[:, :vector_length], y_label, file_name_cpn27)"
   ]
  },
  {
   "cell_type": "markdown",
   "metadata": {},
   "source": [
    "## CPN120\n"
   ]
  },
  {
   "cell_type": "code",
   "execution_count": null,
   "metadata": {},
   "outputs": [],
   "source": [
    "cod = pd.DataFrame(data_matrix_cpn120).iloc[:,vector_length+2].value_counts()\n",
    "reduce_cod = cod[cod<5]\n",
    "n=5\n",
    "data_fill_CPN120 = pd.DataFrame(data_matrix_cpn120).copy()\n",
    "\n",
    "for key, value in reduce_cod.items():\n",
    "    m=np.abs(n-value)\n",
    "    nrow = np.zeros(vector_length)\n",
    "    nrow = np.concatenate([nrow, np.array(['', '', key])])\n",
    "    for i in range(m): data_fill_CPN120 = np.vstack([data_fill_CPN120,nrow])"
   ]
  },
  {
   "cell_type": "code",
   "execution_count": null,
   "metadata": {},
   "outputs": [],
   "source": [
    "y = data_fill_CPN120[:, vector_length+2]\n",
    "\n",
    "labels = np.unique(y)\n",
    "i=0\n",
    "idx2class = {}\n",
    "class2idx= {}\n",
    "for tp in labels:\n",
    "    idx2class[i] = tp\n",
    "    class2idx[tp] = i\n",
    "    i += 1\n",
    "\n",
    "y_label = np.vectorize(class2idx.get)(y)"
   ]
  },
  {
   "cell_type": "code",
   "execution_count": null,
   "metadata": {},
   "outputs": [],
   "source": [
    "from xgboost import XGBClassifier\n",
    "from functions.Experimentations import ParamSearch\n",
    "\n",
    "max_levels = [5,10,50]\n",
    "\n",
    "parameters = {'max_depth': max_levels, 'n_estimators': np.arange(1, 16, 1)}\n",
    "\n",
    "bst = XGBClassifier(learning_rate=1, objective='multi:softprob', random_state=0)\n",
    "file_name_cpn120 = \"results/\"+r'{}_{}_{}_results.csv'.format(dataset_name_cpn120, type_standardization, bst.__class__.__name__)\n",
    "\n",
    "clf_acplt = ParamSearch(bst, parameters)\n",
    "clf_acplt.fit(data_fill_CPN120[:, :vector_length], y_label, file_name_cpn120)"
   ]
  },
  {
   "cell_type": "code",
   "execution_count": null,
   "metadata": {},
   "outputs": [],
   "source": [
    "from sklearn.ensemble import RandomForestClassifier\n",
    "from functions.Experimentations import ParamSearch\n",
    "\n",
    "max_levels = [5,10,50]\n",
    "\n",
    "parameters = {'max_depth': max_levels}\n",
    "rndforest = RandomForestClassifier(random_state=0)\n",
    "file_name_cpn120 = \"results/\"+r'{}_{}_{}_results.csv'.format(dataset_name_cpn120, type_standardization, rndforest.__class__.__name__)\n",
    "\n",
    "clf_acplt = ParamSearch(rndforest, parameters)\n",
    "clf_acplt.fit(data_fill_CPN120[:, :vector_length], y_label, file_name_cpn120)"
   ]
  }
 ],
 "metadata": {
  "kernelspec": {
   "display_name": "myvenv",
   "language": "python",
   "name": "python3"
  },
  "language_info": {
   "codemirror_mode": {
    "name": "ipython",
    "version": 3
   },
   "file_extension": ".py",
   "mimetype": "text/x-python",
   "name": "python",
   "nbconvert_exporter": "python",
   "pygments_lexer": "ipython3",
   "version": "3.10.9"
  },
  "orig_nbformat": 4
 },
 "nbformat": 4,
 "nbformat_minor": 2
}
