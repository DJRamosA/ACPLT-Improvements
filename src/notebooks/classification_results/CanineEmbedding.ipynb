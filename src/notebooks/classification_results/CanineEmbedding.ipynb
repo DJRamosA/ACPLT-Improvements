{
 "cells": [
  {
   "cell_type": "code",
   "execution_count": 1,
   "metadata": {},
   "outputs": [
    {
     "name": "stderr",
     "output_type": "stream",
     "text": [
      "c:\\Users\\dra98\\OneDrive\\Documentos\\Trabajo\\Doctorado\\Codigo\\myvenv\\lib\\site-packages\\tqdm\\auto.py:21: TqdmWarning: IProgress not found. Please update jupyter and ipywidgets. See https://ipywidgets.readthedocs.io/en/stable/user_install.html\n",
      "  from .autonotebook import tqdm as notebook_tqdm\n"
     ]
    }
   ],
   "source": [
    "import pandas as pd\n",
    "import numpy as np\n",
    "import random\n",
    "import time\n",
    "import sys\n",
    "import os\n",
    "\n",
    "sys.path.append(os.path.join(\"..\", \"..\"))\n",
    "\n",
    "# Sentence Embedding\n",
    "from transformers import CanineTokenizer, CanineModel\n",
    "\n",
    "\n",
    "# Set of the random seed for the kmeans model\n",
    "from functions.Experimentations import ParamSearch\n",
    "random.seed(0)"
   ]
  },
  {
   "cell_type": "markdown",
   "metadata": {},
   "source": [
    "# Variables "
   ]
  },
  {
   "cell_type": "code",
   "execution_count": 2,
   "metadata": {},
   "outputs": [],
   "source": [
    "from hydra import initialize, compose\n",
    "\n",
    "with initialize(version_base=None, config_path=\"../../conf\"):\n",
    "    cfg=compose(config_name=\"main.yaml\")"
   ]
  },
  {
   "cell_type": "markdown",
   "metadata": {},
   "source": [
    "# Model"
   ]
  },
  {
   "cell_type": "code",
   "execution_count": 3,
   "metadata": {},
   "outputs": [
    {
     "name": "stderr",
     "output_type": "stream",
     "text": [
      "Using unk_token, but it is not set yet.\n",
      "Using unk_token, but it is not set yet.\n",
      "Using unk_token, but it is not set yet.\n",
      "Using unk_token, but it is not set yet.\n",
      "Using unk_token, but it is not set yet.\n",
      "Using unk_token, but it is not set yet.\n",
      "Using unk_token, but it is not set yet.\n",
      "Using unk_token, but it is not set yet.\n"
     ]
    }
   ],
   "source": [
    "# model = CanineModel.from_pretrained('google/canine-s')\n",
    "# tokenizer = CanineTokenizer.from_pretrained('google/canine-s')"
   ]
  },
  {
   "cell_type": "markdown",
   "metadata": {},
   "source": [
    "# Data Import"
   ]
  },
  {
   "cell_type": "code",
   "execution_count": 7,
   "metadata": {},
   "outputs": [
    {
     "data": {
      "text/html": [
       "<div>\n",
       "<style scoped>\n",
       "    .dataframe tbody tr th:only-of-type {\n",
       "        vertical-align: middle;\n",
       "    }\n",
       "\n",
       "    .dataframe tbody tr th {\n",
       "        vertical-align: top;\n",
       "    }\n",
       "\n",
       "    .dataframe thead th {\n",
       "        text-align: right;\n",
       "    }\n",
       "</style>\n",
       "<table border=\"1\" class=\"dataframe\">\n",
       "  <thead>\n",
       "    <tr style=\"text-align: right;\">\n",
       "      <th></th>\n",
       "      <th>Concepto</th>\n",
       "      <th>Respuesta</th>\n",
       "      <th>Codigo</th>\n",
       "    </tr>\n",
       "  </thead>\n",
       "  <tbody>\n",
       "    <tr>\n",
       "      <th>0</th>\n",
       "      <td>granito</td>\n",
       "      <td>tierra</td>\n",
       "      <td>terrestre</td>\n",
       "    </tr>\n",
       "    <tr>\n",
       "      <th>1</th>\n",
       "      <td>granito</td>\n",
       "      <td>rugoso</td>\n",
       "      <td>texturas</td>\n",
       "    </tr>\n",
       "    <tr>\n",
       "      <th>2</th>\n",
       "      <td>granito</td>\n",
       "      <td>construcción</td>\n",
       "      <td>material_construccion</td>\n",
       "    </tr>\n",
       "    <tr>\n",
       "      <th>3</th>\n",
       "      <td>granito</td>\n",
       "      <td>desagradable al tacto</td>\n",
       "      <td>texturas</td>\n",
       "    </tr>\n",
       "    <tr>\n",
       "      <th>4</th>\n",
       "      <td>granito</td>\n",
       "      <td>raspa</td>\n",
       "      <td>lastimar</td>\n",
       "    </tr>\n",
       "    <tr>\n",
       "      <th>...</th>\n",
       "      <td>...</td>\n",
       "      <td>...</td>\n",
       "      <td>...</td>\n",
       "    </tr>\n",
       "    <tr>\n",
       "      <th>31859</th>\n",
       "      <td>aptitud</td>\n",
       "      <td>inteligencia</td>\n",
       "      <td>inteligencia</td>\n",
       "    </tr>\n",
       "    <tr>\n",
       "      <th>31860</th>\n",
       "      <td>aptitud</td>\n",
       "      <td>condicion necesario</td>\n",
       "      <td>necesario</td>\n",
       "    </tr>\n",
       "    <tr>\n",
       "      <th>31861</th>\n",
       "      <td>aptitud</td>\n",
       "      <td>caracter</td>\n",
       "      <td>personalidad</td>\n",
       "    </tr>\n",
       "    <tr>\n",
       "      <th>31862</th>\n",
       "      <td>aptitud</td>\n",
       "      <td>personalidad</td>\n",
       "      <td>personalidad</td>\n",
       "    </tr>\n",
       "    <tr>\n",
       "      <th>31863</th>\n",
       "      <td>aptitud</td>\n",
       "      <td>modo de pensar</td>\n",
       "      <td>capacidad_cognitiva</td>\n",
       "    </tr>\n",
       "  </tbody>\n",
       "</table>\n",
       "<p>31864 rows × 3 columns</p>\n",
       "</div>"
      ],
      "text/plain": [
       "      Concepto              Respuesta                 Codigo\n",
       "0      granito                 tierra              terrestre\n",
       "1      granito                 rugoso               texturas\n",
       "2      granito           construcción  material_construccion\n",
       "3      granito  desagradable al tacto               texturas\n",
       "4      granito                  raspa               lastimar\n",
       "...        ...                    ...                    ...\n",
       "31859  aptitud           inteligencia           inteligencia\n",
       "31860  aptitud    condicion necesario              necesario\n",
       "31861  aptitud               caracter           personalidad\n",
       "31862  aptitud           personalidad           personalidad\n",
       "31863  aptitud         modo de pensar    capacidad_cognitiva\n",
       "\n",
       "[31864 rows x 3 columns]"
      ]
     },
     "execution_count": 7,
     "metadata": {},
     "output_type": "execute_result"
    }
   ],
   "source": [
    "# Data import\n",
    "# Relative Path of the dataset, change for your dataset\n",
    "\n",
    "# dataset_name = \"cpn120\"\n",
    "# # Options are \"cpn27\" and \"cpn120\"\n",
    "\n",
    "# type_standardization = \"normalize\" \n",
    "# # options are \"raw\", \"normalize\", \"normalize_wo_stop\", and \"lemmatize\"\n",
    "\n",
    "# # import of the data\n",
    "# data = pd.read_csv(cfg.path[type_standardization][dataset_name], delimiter=\",\")\n",
    "# data = data.fillna(value='')"
   ]
  },
  {
   "cell_type": "code",
   "execution_count": 8,
   "metadata": {},
   "outputs": [
    {
     "name": "stdout",
     "output_type": "stream",
     "text": [
      "Execution time: 113407.16197371483\n"
     ]
    }
   ],
   "source": [
    "# # Timer\n",
    "# start = time.time()\n",
    "\n",
    "# descriptions_matrix = np.zeros( # creatign an empty matrix\n",
    "#     (\n",
    "#         len(data.iloc[:,1]),          # the number of data points\n",
    "#         vector_length       # the number of components of the word embedding\n",
    "#     )\n",
    "# )\n",
    "\n",
    "# for i,description in enumerate(data.iloc[:,1]):\n",
    "#     vector = model(**tokenizer(description, padding=\"max_length\", truncation=True, return_tensors=\"pt\")).pooler_output.detach().numpy()[0]\n",
    "#     descriptions_matrix[i,] = vector\n",
    "# # Concatenate the matrix with the data of each observation\n",
    "\n",
    "# data_matrix = np.concatenate([descriptions_matrix,data.iloc[:,:]], axis=1)\n",
    "\n",
    "# end = time.time()\n",
    "# print(\"Execution time:\", end-start)\n",
    "\n",
    "# pd.DataFrame(data_matrix).to_csv(\"{}_canine_raw.csv\".format(dataset_name))"
   ]
  },
  {
   "cell_type": "code",
   "execution_count": 3,
   "metadata": {},
   "outputs": [],
   "source": [
    "# Abrir csv con vectores numericos.\n",
    "\n",
    "dataset_name = \"cpn27\"\n",
    "# Options are \"cpn27\" and \"cpn120\"\n",
    "\n",
    "type_standardization = \"lemmatize\" \n",
    "# options are \"raw\", \"normalize\", \"normalize_wo_stop\", and \"lemmatize\"\n",
    "\n",
    "if type_standardization == \"lemmatize\":\n",
    "    data_matrix = pd.read_csv(cfg.path_embedding_canine[dataset_name][type_standardization], delimiter=',',index_col=\"Unnamed: 0\").to_numpy()\n",
    "else:\n",
    "    data_matrix = pd.read_csv(cfg.path_embedding_canine[dataset_name][type_standardization], delimiter=',').to_numpy()\n"
   ]
  },
  {
   "cell_type": "markdown",
   "metadata": {},
   "source": [
    "# AC-PLT"
   ]
  },
  {
   "cell_type": "code",
   "execution_count": 4,
   "metadata": {},
   "outputs": [
    {
     "name": "stderr",
     "output_type": "stream",
     "text": [
      "c:\\Users\\dra98\\OneDrive\\Documentos\\Trabajo\\Doctorado\\Codigo\\myvenv\\lib\\site-packages\\sklearn\\model_selection\\_split.py:700: UserWarning: The least populated class in y has only 1 members, which is less than n_splits=5.\n",
      "  warnings.warn(\n",
      "c:\\Users\\dra98\\OneDrive\\Documentos\\Trabajo\\Doctorado\\Codigo\\myvenv\\lib\\site-packages\\sklearn\\model_selection\\_split.py:700: UserWarning: The least populated class in y has only 1 members, which is less than n_splits=5.\n",
      "  warnings.warn(\n"
     ]
    },
    {
     "data": {
      "text/plain": [
       "<functions.Experimentations.ParamSearch at 0x233ffd7bf40>"
      ]
     },
     "execution_count": 4,
     "metadata": {},
     "output_type": "execute_result"
    }
   ],
   "source": [
    "from functions.AC_PLT import AC_PLT\n",
    "\n",
    "parameters = {'n_clusters': np.arange(500, 600, 50)}\n",
    "ac_plt = AC_PLT()\n",
    "\n",
    "file_name = cfg.path_results.CANINE+r'{}_{}_{}_results.csv'.format(dataset_name, type_standardization, ac_plt.__class__.__name__)\n",
    "\n",
    "clf_acplt = ParamSearch(ac_plt, parameters)\n",
    "clf_acplt.fit(data_matrix[:, :cfg.params.vector_length.sentence_embedding], data_matrix[:, cfg.params.vector_length.sentence_embedding+2],file_name)"
   ]
  },
  {
   "cell_type": "markdown",
   "metadata": {},
   "source": [
    "# Naive Bayes"
   ]
  },
  {
   "cell_type": "code",
   "execution_count": null,
   "metadata": {},
   "outputs": [
    {
     "name": "stderr",
     "output_type": "stream",
     "text": [
      "/home/jsmf/Desktop/DiegoRamos/.env/lib/python3.10/site-packages/sklearn/model_selection/_split.py:737: UserWarning: The least populated class in y has only 1 members, which is less than n_splits=5.\n",
      "  warnings.warn(\n",
      "/home/jsmf/Desktop/DiegoRamos/.env/lib/python3.10/site-packages/sklearn/model_selection/_split.py:737: UserWarning: The least populated class in y has only 1 members, which is less than n_splits=5.\n",
      "  warnings.warn(\n",
      "/home/jsmf/Desktop/DiegoRamos/.env/lib/python3.10/site-packages/sklearn/model_selection/_split.py:737: UserWarning: The least populated class in y has only 1 members, which is less than n_splits=5.\n",
      "  warnings.warn(\n",
      "/home/jsmf/Desktop/DiegoRamos/.env/lib/python3.10/site-packages/sklearn/model_selection/_split.py:737: UserWarning: The least populated class in y has only 1 members, which is less than n_splits=5.\n",
      "  warnings.warn(\n",
      "/home/jsmf/Desktop/DiegoRamos/.env/lib/python3.10/site-packages/sklearn/model_selection/_split.py:737: UserWarning: The least populated class in y has only 1 members, which is less than n_splits=5.\n",
      "  warnings.warn(\n",
      "/home/jsmf/Desktop/DiegoRamos/.env/lib/python3.10/site-packages/sklearn/model_selection/_split.py:737: UserWarning: The least populated class in y has only 1 members, which is less than n_splits=5.\n",
      "  warnings.warn(\n",
      "/home/jsmf/Desktop/DiegoRamos/.env/lib/python3.10/site-packages/sklearn/model_selection/_split.py:737: UserWarning: The least populated class in y has only 1 members, which is less than n_splits=5.\n",
      "  warnings.warn(\n",
      "/home/jsmf/Desktop/DiegoRamos/.env/lib/python3.10/site-packages/sklearn/model_selection/_split.py:737: UserWarning: The least populated class in y has only 1 members, which is less than n_splits=5.\n",
      "  warnings.warn(\n",
      "/home/jsmf/Desktop/DiegoRamos/.env/lib/python3.10/site-packages/sklearn/model_selection/_split.py:737: UserWarning: The least populated class in y has only 1 members, which is less than n_splits=5.\n",
      "  warnings.warn(\n"
     ]
    },
    {
     "data": {
      "text/plain": [
       "<Experimentations.ParamSearch at 0x7fa089b0f550>"
      ]
     },
     "metadata": {},
     "output_type": "display_data"
    }
   ],
   "source": [
    "from Experimentations import ParamSearch\n",
    "from sklearn.naive_bayes import GaussianNB\n",
    "\n",
    "parameters = {'var_smoothing': np.geomspace(1e-06, 1e+02, num=9)}\n",
    "proc = GaussianNB()\n",
    "\n",
    "file_name = r'../data/results/canine/lemmatize/{}_{}_results.csv'.format(dataset_name, proc.__class__.__name__)\n",
    "\n",
    "clf = ParamSearch(proc, parameters)\n",
    "clf.fit(data_matrix[:, :vector_length], data_matrix[:, vector_length+2],file_name)"
   ]
  },
  {
   "cell_type": "markdown",
   "metadata": {},
   "source": [
    "# SVC"
   ]
  },
  {
   "cell_type": "code",
   "execution_count": null,
   "metadata": {},
   "outputs": [
    {
     "name": "stderr",
     "output_type": "stream",
     "text": [
      "/home/jsmf/Desktop/DiegoRamos/.env/lib/python3.10/site-packages/sklearn/model_selection/_split.py:737: UserWarning: The least populated class in y has only 1 members, which is less than n_splits=5.\n",
      "  warnings.warn(\n",
      "/home/jsmf/Desktop/DiegoRamos/.env/lib/python3.10/site-packages/sklearn/model_selection/_split.py:737: UserWarning: The least populated class in y has only 1 members, which is less than n_splits=5.\n",
      "  warnings.warn(\n",
      "/home/jsmf/Desktop/DiegoRamos/.env/lib/python3.10/site-packages/sklearn/model_selection/_split.py:737: UserWarning: The least populated class in y has only 1 members, which is less than n_splits=5.\n",
      "  warnings.warn(\n",
      "/home/jsmf/Desktop/DiegoRamos/.env/lib/python3.10/site-packages/sklearn/model_selection/_split.py:737: UserWarning: The least populated class in y has only 1 members, which is less than n_splits=5.\n",
      "  warnings.warn(\n",
      "/home/jsmf/Desktop/DiegoRamos/.env/lib/python3.10/site-packages/sklearn/model_selection/_split.py:737: UserWarning: The least populated class in y has only 1 members, which is less than n_splits=5.\n",
      "  warnings.warn(\n",
      "/home/jsmf/Desktop/DiegoRamos/.env/lib/python3.10/site-packages/sklearn/model_selection/_split.py:737: UserWarning: The least populated class in y has only 1 members, which is less than n_splits=5.\n",
      "  warnings.warn(\n",
      "/home/jsmf/Desktop/DiegoRamos/.env/lib/python3.10/site-packages/sklearn/model_selection/_split.py:737: UserWarning: The least populated class in y has only 1 members, which is less than n_splits=5.\n",
      "  warnings.warn(\n"
     ]
    },
    {
     "data": {
      "text/plain": [
       "<Experimentations.ParamSearch at 0x7fa089b0ecb0>"
      ]
     },
     "metadata": {},
     "output_type": "display_data"
    }
   ],
   "source": [
    "from Experimentations import ParamSearch\n",
    "from sklearn.svm import SVC\n",
    "\n",
    "kernel='rbf'\n",
    "parameters = {'C': np.geomspace(1e-05, 1e+01, num=7)}\n",
    "svc_rbf = SVC(kernel=kernel, gamma='auto')\n",
    "fileName = r'../data/results/canine/lemmatize/{}_{}{}_results.csv'.format(dataset_name, svc_rbf.__class__.__name__, kernel)\n",
    "\n",
    "clf_acplt = ParamSearch(svc_rbf, parameters)\n",
    "clf_acplt.fit(data_matrix[:, :vector_length], data_matrix[:, vector_length+2], fileName)"
   ]
  },
  {
   "cell_type": "code",
   "execution_count": null,
   "metadata": {},
   "outputs": [
    {
     "name": "stderr",
     "output_type": "stream",
     "text": [
      "/home/jsmf/Desktop/DiegoRamos/.env/lib/python3.10/site-packages/sklearn/model_selection/_split.py:737: UserWarning: The least populated class in y has only 1 members, which is less than n_splits=5.\n",
      "  warnings.warn(\n",
      "/home/jsmf/Desktop/DiegoRamos/.env/lib/python3.10/site-packages/sklearn/model_selection/_split.py:737: UserWarning: The least populated class in y has only 1 members, which is less than n_splits=5.\n",
      "  warnings.warn(\n",
      "/home/jsmf/Desktop/DiegoRamos/.env/lib/python3.10/site-packages/sklearn/model_selection/_split.py:737: UserWarning: The least populated class in y has only 1 members, which is less than n_splits=5.\n",
      "  warnings.warn(\n",
      "/home/jsmf/Desktop/DiegoRamos/.env/lib/python3.10/site-packages/sklearn/model_selection/_split.py:737: UserWarning: The least populated class in y has only 1 members, which is less than n_splits=5.\n",
      "  warnings.warn(\n",
      "/home/jsmf/Desktop/DiegoRamos/.env/lib/python3.10/site-packages/sklearn/model_selection/_split.py:737: UserWarning: The least populated class in y has only 1 members, which is less than n_splits=5.\n",
      "  warnings.warn(\n",
      "/home/jsmf/Desktop/DiegoRamos/.env/lib/python3.10/site-packages/sklearn/model_selection/_split.py:737: UserWarning: The least populated class in y has only 1 members, which is less than n_splits=5.\n",
      "  warnings.warn(\n",
      "/home/jsmf/Desktop/DiegoRamos/.env/lib/python3.10/site-packages/sklearn/model_selection/_split.py:737: UserWarning: The least populated class in y has only 1 members, which is less than n_splits=5.\n",
      "  warnings.warn(\n"
     ]
    },
    {
     "data": {
      "text/plain": [
       "<Experimentations.ParamSearch at 0x7fa070b2f7c0>"
      ]
     },
     "metadata": {},
     "output_type": "display_data"
    }
   ],
   "source": [
    "from Experimentations import ParamSearch\n",
    "from sklearn.svm import SVC\n",
    "\n",
    "kernel='linear'\n",
    "parameters = {'C': np.geomspace(1e-05, 1e+01, num=7)}\n",
    "svc_linear = SVC(kernel=kernel, gamma='auto')\n",
    "fileName = r'../data/results/canine/lemmatize/{}_{}{}_results.csv'.format(dataset_name, svc_linear.__class__.__name__, kernel)\n",
    "\n",
    "\n",
    "clf_acplt = ParamSearch(svc_linear, parameters)\n",
    "clf_acplt.fit(data_matrix[:, :vector_length], data_matrix[:, vector_length+2], fileName)"
   ]
  },
  {
   "cell_type": "code",
   "execution_count": null,
   "metadata": {},
   "outputs": [
    {
     "name": "stderr",
     "output_type": "stream",
     "text": [
      "/home/jsmf/Desktop/DiegoRamos/.env/lib/python3.10/site-packages/sklearn/model_selection/_split.py:737: UserWarning: The least populated class in y has only 1 members, which is less than n_splits=5.\n",
      "  warnings.warn(\n",
      "/home/jsmf/Desktop/DiegoRamos/.env/lib/python3.10/site-packages/sklearn/model_selection/_split.py:737: UserWarning: The least populated class in y has only 1 members, which is less than n_splits=5.\n",
      "  warnings.warn(\n",
      "/home/jsmf/Desktop/DiegoRamos/.env/lib/python3.10/site-packages/sklearn/model_selection/_split.py:737: UserWarning: The least populated class in y has only 1 members, which is less than n_splits=5.\n",
      "  warnings.warn(\n",
      "/home/jsmf/Desktop/DiegoRamos/.env/lib/python3.10/site-packages/sklearn/model_selection/_split.py:737: UserWarning: The least populated class in y has only 1 members, which is less than n_splits=5.\n",
      "  warnings.warn(\n",
      "/home/jsmf/Desktop/DiegoRamos/.env/lib/python3.10/site-packages/sklearn/model_selection/_split.py:737: UserWarning: The least populated class in y has only 1 members, which is less than n_splits=5.\n",
      "  warnings.warn(\n",
      "/home/jsmf/Desktop/DiegoRamos/.env/lib/python3.10/site-packages/sklearn/model_selection/_split.py:737: UserWarning: The least populated class in y has only 1 members, which is less than n_splits=5.\n",
      "  warnings.warn(\n"
     ]
    },
    {
     "data": {
      "text/plain": [
       "<Experimentations.ParamSearch at 0x7fa070b2c9a0>"
      ]
     },
     "metadata": {},
     "output_type": "display_data"
    }
   ],
   "source": [
    "from Experimentations import ParamSearch\n",
    "from sklearn.svm import SVC\n",
    "\n",
    "kernel='poly'\n",
    "parameters = {'degree': np.arange(1,7)}\n",
    "svc_poly = SVC(kernel=kernel, gamma='auto')\n",
    "fileName = r'../data/results/canine/lemmatize/{}_{}{}_results.csv'.format(dataset_name, svc_poly.__class__.__name__, kernel)\n",
    "\n",
    "clf_acplt = ParamSearch(svc_poly, parameters)\n",
    "clf_acplt.fit(data_matrix[:, :vector_length], data_matrix[:, vector_length+2], fileName)"
   ]
  },
  {
   "cell_type": "code",
   "execution_count": null,
   "metadata": {},
   "outputs": [
    {
     "name": "stderr",
     "output_type": "stream",
     "text": [
      "/home/jsmf/Desktop/DiegoRamos/.env/lib/python3.10/site-packages/sklearn/model_selection/_split.py:737: UserWarning: The least populated class in y has only 1 members, which is less than n_splits=5.\n",
      "  warnings.warn(\n",
      "/home/jsmf/Desktop/DiegoRamos/.env/lib/python3.10/site-packages/sklearn/model_selection/_split.py:737: UserWarning: The least populated class in y has only 1 members, which is less than n_splits=5.\n",
      "  warnings.warn(\n",
      "/home/jsmf/Desktop/DiegoRamos/.env/lib/python3.10/site-packages/sklearn/model_selection/_split.py:737: UserWarning: The least populated class in y has only 1 members, which is less than n_splits=5.\n",
      "  warnings.warn(\n",
      "/home/jsmf/Desktop/DiegoRamos/.env/lib/python3.10/site-packages/sklearn/model_selection/_split.py:737: UserWarning: The least populated class in y has only 1 members, which is less than n_splits=5.\n",
      "  warnings.warn(\n",
      "/home/jsmf/Desktop/DiegoRamos/.env/lib/python3.10/site-packages/sklearn/model_selection/_split.py:737: UserWarning: The least populated class in y has only 1 members, which is less than n_splits=5.\n",
      "  warnings.warn(\n",
      "/home/jsmf/Desktop/DiegoRamos/.env/lib/python3.10/site-packages/sklearn/model_selection/_split.py:737: UserWarning: The least populated class in y has only 1 members, which is less than n_splits=5.\n",
      "  warnings.warn(\n",
      "/home/jsmf/Desktop/DiegoRamos/.env/lib/python3.10/site-packages/sklearn/model_selection/_split.py:737: UserWarning: The least populated class in y has only 1 members, which is less than n_splits=5.\n",
      "  warnings.warn(\n"
     ]
    },
    {
     "data": {
      "text/plain": [
       "<Experimentations.ParamSearch at 0x7fa070b2dcf0>"
      ]
     },
     "metadata": {},
     "output_type": "display_data"
    }
   ],
   "source": [
    "from Experimentations import ParamSearch\n",
    "from sklearn.svm import SVC\n",
    "\n",
    "kernel='sigmoid'\n",
    "parameters = {'C': np.geomspace(1e-05, 1e+01, num=7)}\n",
    "svc_sigmoid = SVC(kernel=kernel, gamma='auto')\n",
    "fileName = r'../data/results/canine/lemmatize/{}_{}{}_results.csv'.format(dataset_name, svc_rbf.__class__.__name__, kernel)\n",
    "\n",
    "clf_acplt = ParamSearch(svc_sigmoid, parameters)\n",
    "clf_acplt.fit(data_matrix[:, :vector_length], data_matrix[:, vector_length+2], fileName)"
   ]
  },
  {
   "cell_type": "markdown",
   "metadata": {},
   "source": [
    "# Decision Tree"
   ]
  },
  {
   "cell_type": "code",
   "execution_count": null,
   "metadata": {},
   "outputs": [
    {
     "name": "stderr",
     "output_type": "stream",
     "text": [
      "/home/jsmf/Desktop/DiegoRamos/.env/lib/python3.10/site-packages/sklearn/model_selection/_split.py:737: UserWarning: The least populated class in y has only 1 members, which is less than n_splits=5.\n",
      "  warnings.warn(\n",
      "/home/jsmf/Desktop/DiegoRamos/.env/lib/python3.10/site-packages/sklearn/model_selection/_split.py:737: UserWarning: The least populated class in y has only 1 members, which is less than n_splits=5.\n",
      "  warnings.warn(\n",
      "/home/jsmf/Desktop/DiegoRamos/.env/lib/python3.10/site-packages/sklearn/model_selection/_split.py:737: UserWarning: The least populated class in y has only 1 members, which is less than n_splits=5.\n",
      "  warnings.warn(\n",
      "/home/jsmf/Desktop/DiegoRamos/.env/lib/python3.10/site-packages/sklearn/model_selection/_split.py:737: UserWarning: The least populated class in y has only 1 members, which is less than n_splits=5.\n",
      "  warnings.warn(\n",
      "/home/jsmf/Desktop/DiegoRamos/.env/lib/python3.10/site-packages/sklearn/model_selection/_split.py:737: UserWarning: The least populated class in y has only 1 members, which is less than n_splits=5.\n",
      "  warnings.warn(\n",
      "/home/jsmf/Desktop/DiegoRamos/.env/lib/python3.10/site-packages/sklearn/model_selection/_split.py:737: UserWarning: The least populated class in y has only 1 members, which is less than n_splits=5.\n",
      "  warnings.warn(\n",
      "/home/jsmf/Desktop/DiegoRamos/.env/lib/python3.10/site-packages/sklearn/model_selection/_split.py:737: UserWarning: The least populated class in y has only 1 members, which is less than n_splits=5.\n",
      "  warnings.warn(\n",
      "/home/jsmf/Desktop/DiegoRamos/.env/lib/python3.10/site-packages/sklearn/model_selection/_split.py:737: UserWarning: The least populated class in y has only 1 members, which is less than n_splits=5.\n",
      "  warnings.warn(\n",
      "/home/jsmf/Desktop/DiegoRamos/.env/lib/python3.10/site-packages/sklearn/model_selection/_split.py:737: UserWarning: The least populated class in y has only 1 members, which is less than n_splits=5.\n",
      "  warnings.warn(\n"
     ]
    }
   ],
   "source": [
    "from Experimentations import ParamSearch\n",
    "from sklearn.tree import DecisionTreeClassifier\n",
    "\n",
    "criterion = 'gini'\n",
    "parameters = {'max_leaf_nodes': np.arange(100, 1501, 100)}\n",
    "desition_tree = DecisionTreeClassifier(criterion=criterion)\n",
    "fileName = r'../data/results/canine/lemmatize/{}_{}_{}_results.csv'.format(dataset_name, desition_tree.__class__.__name__, criterion)\n",
    "\n",
    "clf_acplt = ParamSearch(desition_tree, parameters)\n",
    "clf_acplt.fit(data_matrix[:, :vector_length], data_matrix[:, vector_length+2], fileName)"
   ]
  },
  {
   "cell_type": "markdown",
   "metadata": {},
   "source": [
    "# XGBoost"
   ]
  },
  {
   "cell_type": "code",
   "execution_count": null,
   "metadata": {},
   "outputs": [],
   "source": [
    "df = pd.DataFrame(data_matrix)\n",
    "cod = df.iloc[:,vector_length+2].value_counts()\n",
    "reduce_cod = cod[cod<5]\n",
    "n=5\n",
    "data_fill = df.copy()\n",
    "\n",
    "for key, value in reduce_cod.items():\n",
    "    m=np.abs(n-value)\n",
    "    nrow = np.zeros(vector_length)\n",
    "    nrow = np.concatenate([nrow, np.array(['', '', key])])\n",
    "    for i in range(m): data_fill = np.vstack([data_fill,nrow])"
   ]
  },
  {
   "cell_type": "code",
   "execution_count": null,
   "metadata": {},
   "outputs": [],
   "source": [
    "y = data_fill[:, vector_length+2]\n",
    "\n",
    "labels = np.unique(y)\n",
    "i=0\n",
    "idx2class = {}\n",
    "class2idx= {}\n",
    "for tp in labels:\n",
    "    idx2class[i] = tp\n",
    "    class2idx[tp] = i\n",
    "    i += 1\n",
    "\n",
    "y_label = np.vectorize(class2idx.get)(y)"
   ]
  },
  {
   "cell_type": "code",
   "execution_count": null,
   "metadata": {},
   "outputs": [
    {
     "name": "stderr",
     "output_type": "stream",
     "text": [
      "/home/jsmf/Desktop/DiegoRamos/.env/lib/python3.10/site-packages/xgboost/core.py:160: UserWarning: [21:06:33] WARNING: /workspace/src/learner.cc:742: \n",
      "Parameters: { \"max_depht\" } are not used.\n",
      "\n",
      "  warnings.warn(smsg, UserWarning)\n",
      "/home/jsmf/Desktop/DiegoRamos/.env/lib/python3.10/site-packages/xgboost/core.py:160: UserWarning: [21:19:11] WARNING: /workspace/src/learner.cc:742: \n",
      "Parameters: { \"max_depht\" } are not used.\n",
      "\n",
      "  warnings.warn(smsg, UserWarning)\n",
      "/home/jsmf/Desktop/DiegoRamos/.env/lib/python3.10/site-packages/xgboost/core.py:160: UserWarning: [21:32:05] WARNING: /workspace/src/learner.cc:742: \n",
      "Parameters: { \"max_depht\" } are not used.\n",
      "\n",
      "  warnings.warn(smsg, UserWarning)\n",
      "/home/jsmf/Desktop/DiegoRamos/.env/lib/python3.10/site-packages/xgboost/core.py:160: UserWarning: [21:45:28] WARNING: /workspace/src/learner.cc:742: \n",
      "Parameters: { \"max_depht\" } are not used.\n",
      "\n",
      "  warnings.warn(smsg, UserWarning)\n",
      "/home/jsmf/Desktop/DiegoRamos/.env/lib/python3.10/site-packages/xgboost/core.py:160: UserWarning: [21:58:58] WARNING: /workspace/src/learner.cc:742: \n",
      "Parameters: { \"max_depht\" } are not used.\n",
      "\n",
      "  warnings.warn(smsg, UserWarning)\n",
      "/home/jsmf/Desktop/DiegoRamos/.env/lib/python3.10/site-packages/xgboost/core.py:160: UserWarning: [22:12:39] WARNING: /workspace/src/learner.cc:742: \n",
      "Parameters: { \"max_depht\" } are not used.\n",
      "\n",
      "  warnings.warn(smsg, UserWarning)\n",
      "/home/jsmf/Desktop/DiegoRamos/.env/lib/python3.10/site-packages/xgboost/core.py:160: UserWarning: [22:32:21] WARNING: /workspace/src/learner.cc:742: \n",
      "Parameters: { \"max_depht\" } are not used.\n",
      "\n",
      "  warnings.warn(smsg, UserWarning)\n",
      "/home/jsmf/Desktop/DiegoRamos/.env/lib/python3.10/site-packages/xgboost/core.py:160: UserWarning: [22:51:43] WARNING: /workspace/src/learner.cc:742: \n",
      "Parameters: { \"max_depht\" } are not used.\n",
      "\n",
      "  warnings.warn(smsg, UserWarning)\n",
      "/home/jsmf/Desktop/DiegoRamos/.env/lib/python3.10/site-packages/xgboost/core.py:160: UserWarning: [23:11:59] WARNING: /workspace/src/learner.cc:742: \n",
      "Parameters: { \"max_depht\" } are not used.\n",
      "\n",
      "  warnings.warn(smsg, UserWarning)\n",
      "/home/jsmf/Desktop/DiegoRamos/.env/lib/python3.10/site-packages/xgboost/core.py:160: UserWarning: [23:31:58] WARNING: /workspace/src/learner.cc:742: \n",
      "Parameters: { \"max_depht\" } are not used.\n",
      "\n",
      "  warnings.warn(smsg, UserWarning)\n",
      "/home/jsmf/Desktop/DiegoRamos/.env/lib/python3.10/site-packages/xgboost/core.py:160: UserWarning: [23:52:15] WARNING: /workspace/src/learner.cc:742: \n",
      "Parameters: { \"max_depht\" } are not used.\n",
      "\n",
      "  warnings.warn(smsg, UserWarning)\n",
      "/home/jsmf/Desktop/DiegoRamos/.env/lib/python3.10/site-packages/xgboost/core.py:160: UserWarning: [00:18:04] WARNING: /workspace/src/learner.cc:742: \n",
      "Parameters: { \"max_depht\" } are not used.\n",
      "\n",
      "  warnings.warn(smsg, UserWarning)\n",
      "/home/jsmf/Desktop/DiegoRamos/.env/lib/python3.10/site-packages/xgboost/core.py:160: UserWarning: [00:43:39] WARNING: /workspace/src/learner.cc:742: \n",
      "Parameters: { \"max_depht\" } are not used.\n",
      "\n",
      "  warnings.warn(smsg, UserWarning)\n",
      "/home/jsmf/Desktop/DiegoRamos/.env/lib/python3.10/site-packages/xgboost/core.py:160: UserWarning: [01:10:04] WARNING: /workspace/src/learner.cc:742: \n",
      "Parameters: { \"max_depht\" } are not used.\n",
      "\n",
      "  warnings.warn(smsg, UserWarning)\n",
      "/home/jsmf/Desktop/DiegoRamos/.env/lib/python3.10/site-packages/xgboost/core.py:160: UserWarning: [01:36:22] WARNING: /workspace/src/learner.cc:742: \n",
      "Parameters: { \"max_depht\" } are not used.\n",
      "\n",
      "  warnings.warn(smsg, UserWarning)\n",
      "/home/jsmf/Desktop/DiegoRamos/.env/lib/python3.10/site-packages/xgboost/core.py:160: UserWarning: [02:02:46] WARNING: /workspace/src/learner.cc:742: \n",
      "Parameters: { \"max_depht\" } are not used.\n",
      "\n",
      "  warnings.warn(smsg, UserWarning)\n",
      "/home/jsmf/Desktop/DiegoRamos/.env/lib/python3.10/site-packages/xgboost/core.py:160: UserWarning: [02:34:11] WARNING: /workspace/src/learner.cc:742: \n",
      "Parameters: { \"max_depht\" } are not used.\n",
      "\n",
      "  warnings.warn(smsg, UserWarning)\n",
      "/home/jsmf/Desktop/DiegoRamos/.env/lib/python3.10/site-packages/xgboost/core.py:160: UserWarning: [03:04:17] WARNING: /workspace/src/learner.cc:742: \n",
      "Parameters: { \"max_depht\" } are not used.\n",
      "\n",
      "  warnings.warn(smsg, UserWarning)\n",
      "/home/jsmf/Desktop/DiegoRamos/.env/lib/python3.10/site-packages/xgboost/core.py:160: UserWarning: [03:36:03] WARNING: /workspace/src/learner.cc:742: \n",
      "Parameters: { \"max_depht\" } are not used.\n",
      "\n",
      "  warnings.warn(smsg, UserWarning)\n",
      "/home/jsmf/Desktop/DiegoRamos/.env/lib/python3.10/site-packages/xgboost/core.py:160: UserWarning: [04:08:11] WARNING: /workspace/src/learner.cc:742: \n",
      "Parameters: { \"max_depht\" } are not used.\n",
      "\n",
      "  warnings.warn(smsg, UserWarning)\n",
      "/home/jsmf/Desktop/DiegoRamos/.env/lib/python3.10/site-packages/xgboost/core.py:160: UserWarning: [04:40:52] WARNING: /workspace/src/learner.cc:742: \n",
      "Parameters: { \"max_depht\" } are not used.\n",
      "\n",
      "  warnings.warn(smsg, UserWarning)\n",
      "/home/jsmf/Desktop/DiegoRamos/.env/lib/python3.10/site-packages/xgboost/core.py:160: UserWarning: [05:16:49] WARNING: /workspace/src/learner.cc:742: \n",
      "Parameters: { \"max_depht\" } are not used.\n",
      "\n",
      "  warnings.warn(smsg, UserWarning)\n",
      "/home/jsmf/Desktop/DiegoRamos/.env/lib/python3.10/site-packages/xgboost/core.py:160: UserWarning: [05:52:32] WARNING: /workspace/src/learner.cc:742: \n",
      "Parameters: { \"max_depht\" } are not used.\n",
      "\n",
      "  warnings.warn(smsg, UserWarning)\n",
      "/home/jsmf/Desktop/DiegoRamos/.env/lib/python3.10/site-packages/xgboost/core.py:160: UserWarning: [06:29:38] WARNING: /workspace/src/learner.cc:742: \n",
      "Parameters: { \"max_depht\" } are not used.\n",
      "\n",
      "  warnings.warn(smsg, UserWarning)\n",
      "/home/jsmf/Desktop/DiegoRamos/.env/lib/python3.10/site-packages/xgboost/core.py:160: UserWarning: [07:07:41] WARNING: /workspace/src/learner.cc:742: \n",
      "Parameters: { \"max_depht\" } are not used.\n",
      "\n",
      "  warnings.warn(smsg, UserWarning)\n",
      "/home/jsmf/Desktop/DiegoRamos/.env/lib/python3.10/site-packages/xgboost/core.py:160: UserWarning: [07:46:29] WARNING: /workspace/src/learner.cc:742: \n",
      "Parameters: { \"max_depht\" } are not used.\n",
      "\n",
      "  warnings.warn(smsg, UserWarning)\n",
      "/home/jsmf/Desktop/DiegoRamos/.env/lib/python3.10/site-packages/xgboost/core.py:160: UserWarning: [08:27:17] WARNING: /workspace/src/learner.cc:742: \n",
      "Parameters: { \"max_depht\" } are not used.\n",
      "\n",
      "  warnings.warn(smsg, UserWarning)\n",
      "/home/jsmf/Desktop/DiegoRamos/.env/lib/python3.10/site-packages/xgboost/core.py:160: UserWarning: [09:08:23] WARNING: /workspace/src/learner.cc:742: \n",
      "Parameters: { \"max_depht\" } are not used.\n",
      "\n",
      "  warnings.warn(smsg, UserWarning)\n",
      "/home/jsmf/Desktop/DiegoRamos/.env/lib/python3.10/site-packages/xgboost/core.py:160: UserWarning: [09:52:15] WARNING: /workspace/src/learner.cc:742: \n",
      "Parameters: { \"max_depht\" } are not used.\n",
      "\n",
      "  warnings.warn(smsg, UserWarning)\n",
      "/home/jsmf/Desktop/DiegoRamos/.env/lib/python3.10/site-packages/xgboost/core.py:160: UserWarning: [10:35:09] WARNING: /workspace/src/learner.cc:742: \n",
      "Parameters: { \"max_depht\" } are not used.\n",
      "\n",
      "  warnings.warn(smsg, UserWarning)\n"
     ]
    }
   ],
   "source": [
    "from xgboost import XGBClassifier\n",
    "from Experimentations import ParamSearch\n",
    "\n",
    "max_levels = [5,10,50,100,200,300]\n",
    "\n",
    "parameters = {'max_depht': max_levels, 'n_estimators': np.arange(1, 20, 1)}\n",
    "\n",
    "bst = XGBClassifier(learning_rate=1, objective='multi:softprob', random_state=0)\n",
    "fileName = r'../data/results/canine/lemmatize/{}_{}_results.csv'.format(dataset_name, bst.__class__.__name__)\n",
    "\n",
    "clf_acplt = ParamSearch(bst, parameters)\n",
    "clf_acplt.fit(data_fill[:, :vector_length], y_label, fileName)\n"
   ]
  },
  {
   "cell_type": "markdown",
   "metadata": {},
   "source": [
    "# Random Forest\n",
    "Ejecutar las celdas de Xgboost"
   ]
  },
  {
   "cell_type": "code",
   "execution_count": null,
   "metadata": {},
   "outputs": [],
   "source": [
    "from sklearn.ensemble import RandomForestClassifier\n",
    "from Experimentations import ParamSearch\n",
    "\n",
    "max_levels = [5,10,50,100,200,300]\n",
    "\n",
    "parameters = {'max_depht': max_levels}\n",
    "rndforest = RandomForestClassifier(random_state=0)\n",
    "fileName = r'../data/results/canine/lemmatize/{}_{}_results.csv'.format(dataset_name, rndforest.__class__.__name__)\n",
    "\n",
    "clf_acplt = ParamSearch(rndforest, parameters)\n",
    "clf_acplt.fit(data_fill[:, :vector_length], y_label, fileName)\n"
   ]
  },
  {
   "cell_type": "markdown",
   "metadata": {},
   "source": [
    "# KNN"
   ]
  },
  {
   "cell_type": "code",
   "execution_count": null,
   "metadata": {},
   "outputs": [],
   "source": [
    "from Experimentations import ParamSearch\n",
    "from sklearn.neighbors import KNeighborsClassifier\n",
    "\n",
    "parameters = {'n_neighbors': np.arange(10, 501, 10)}\n",
    "knn = KNeighborsClassifier()\n",
    "fileName = r'../data/results/canine/lemmatize/{}_{}_results.csv'.format(dataset_name, knn.__class__.__name__)\n",
    "\n",
    "clf_acplt = ParamSearch(knn, parameters)\n",
    "clf_acplt.fit(data.iloc[:, :vector_length].to_numpy(), data.iloc[:, vector_length+2].to_numpy(), fileName)"
   ]
  }
 ],
 "metadata": {
  "kernelspec": {
   "display_name": "myvenv",
   "language": "python",
   "name": "python3"
  },
  "language_info": {
   "codemirror_mode": {
    "name": "ipython",
    "version": 3
   },
   "file_extension": ".py",
   "mimetype": "text/x-python",
   "name": "python",
   "nbconvert_exporter": "python",
   "pygments_lexer": "ipython3",
   "version": "3.10.9"
  },
  "orig_nbformat": 4
 },
 "nbformat": 4,
 "nbformat_minor": 2
}
