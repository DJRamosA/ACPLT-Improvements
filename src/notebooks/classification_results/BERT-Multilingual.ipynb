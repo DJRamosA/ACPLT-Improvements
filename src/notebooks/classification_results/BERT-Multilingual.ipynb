{
 "cells": [
  {
   "cell_type": "code",
   "execution_count": 1,
   "metadata": {},
   "outputs": [],
   "source": [
    "import pandas as pd\n",
    "import numpy as np\n",
    "import spacy\n",
    "import gensim\n",
    "import random\n",
    "import time\n",
    "\n",
    "from sentence_transformers import SentenceTransformer\n",
    "\n",
    "# Set of the random seed for the kmeans model\n",
    "random.seed(0)"
   ]
  },
  {
   "attachments": {},
   "cell_type": "markdown",
   "metadata": {},
   "source": [
    "# Global Variables "
   ]
  },
  {
   "cell_type": "code",
   "execution_count": null,
   "metadata": {},
   "outputs": [],
   "source": [
    "vector_length = 768"
   ]
  },
  {
   "attachments": {},
   "cell_type": "markdown",
   "metadata": {},
   "source": [
    "# Data Import"
   ]
  },
  {
   "cell_type": "code",
   "execution_count": 8,
   "metadata": {},
   "outputs": [
    {
     "data": {
      "text/html": [
       "<div>\n",
       "<style scoped>\n",
       "    .dataframe tbody tr th:only-of-type {\n",
       "        vertical-align: middle;\n",
       "    }\n",
       "\n",
       "    .dataframe tbody tr th {\n",
       "        vertical-align: top;\n",
       "    }\n",
       "\n",
       "    .dataframe thead th {\n",
       "        text-align: right;\n",
       "    }\n",
       "</style>\n",
       "<table border=\"1\" class=\"dataframe\">\n",
       "  <thead>\n",
       "    <tr style=\"text-align: right;\">\n",
       "      <th></th>\n",
       "      <th>Palabra (concepto)</th>\n",
       "      <th>Descripción</th>\n",
       "      <th>Codificación</th>\n",
       "    </tr>\n",
       "  </thead>\n",
       "  <tbody>\n",
       "    <tr>\n",
       "      <th>0</th>\n",
       "      <td>Compasión</td>\n",
       "      <td>sentimiento</td>\n",
       "      <td>sentimiento</td>\n",
       "    </tr>\n",
       "    <tr>\n",
       "      <th>1</th>\n",
       "      <td>Compasión</td>\n",
       "      <td>por lo que se le perdona la vida a alguien en ...</td>\n",
       "      <td>perdón</td>\n",
       "    </tr>\n",
       "    <tr>\n",
       "      <th>2</th>\n",
       "      <td>plan</td>\n",
       "      <td>necesario para cumplir objetivos</td>\n",
       "      <td>objetivos</td>\n",
       "    </tr>\n",
       "    <tr>\n",
       "      <th>3</th>\n",
       "      <td>plan</td>\n",
       "      <td>organizar recursos o personas</td>\n",
       "      <td>organización</td>\n",
       "    </tr>\n",
       "    <tr>\n",
       "      <th>4</th>\n",
       "      <td>plan</td>\n",
       "      <td>estrategia</td>\n",
       "      <td>estrategia</td>\n",
       "    </tr>\n",
       "    <tr>\n",
       "      <th>...</th>\n",
       "      <td>...</td>\n",
       "      <td>...</td>\n",
       "      <td>...</td>\n",
       "    </tr>\n",
       "    <tr>\n",
       "      <th>4933</th>\n",
       "      <td>Obligación</td>\n",
       "      <td>imposicion</td>\n",
       "      <td>imposición</td>\n",
       "    </tr>\n",
       "    <tr>\n",
       "      <th>4934</th>\n",
       "      <td>Obligación</td>\n",
       "      <td>carácter extricto</td>\n",
       "      <td>extricto</td>\n",
       "    </tr>\n",
       "    <tr>\n",
       "      <th>4935</th>\n",
       "      <td>Obligación</td>\n",
       "      <td>normas</td>\n",
       "      <td>normas</td>\n",
       "    </tr>\n",
       "    <tr>\n",
       "      <th>4936</th>\n",
       "      <td>Obligación</td>\n",
       "      <td>deberes</td>\n",
       "      <td>deber</td>\n",
       "    </tr>\n",
       "    <tr>\n",
       "      <th>4937</th>\n",
       "      <td>Obligación</td>\n",
       "      <td>acto impuesto por algo o alguien</td>\n",
       "      <td>imposición</td>\n",
       "    </tr>\n",
       "  </tbody>\n",
       "</table>\n",
       "<p>4938 rows × 3 columns</p>\n",
       "</div>"
      ],
      "text/plain": [
       "     Palabra (concepto)                                        Descripción  \\\n",
       "0            Compasión                                         sentimiento   \n",
       "1            Compasión   por lo que se le perdona la vida a alguien en ...   \n",
       "2                  plan                   necesario para cumplir objetivos   \n",
       "3                  plan                      organizar recursos o personas   \n",
       "4                  plan                                         estrategia   \n",
       "...                 ...                                                ...   \n",
       "4933         Obligación                                         imposicion   \n",
       "4934         Obligación                                  carácter extricto   \n",
       "4935         Obligación                                             normas   \n",
       "4936         Obligación                                            deberes   \n",
       "4937         Obligación                   acto impuesto por algo o alguien   \n",
       "\n",
       "      Codificación  \n",
       "0      sentimiento  \n",
       "1           perdón  \n",
       "2        objetivos  \n",
       "3     organización  \n",
       "4       estrategia  \n",
       "...            ...  \n",
       "4933    imposición  \n",
       "4934      extricto  \n",
       "4935        normas  \n",
       "4936         deber  \n",
       "4937    imposición  \n",
       "\n",
       "[4938 rows x 3 columns]"
      ]
     },
     "execution_count": 8,
     "metadata": {},
     "output_type": "execute_result"
    }
   ],
   "source": [
    "# Data import\n",
    "# Relative Path of the dataset, change for your dataset\n",
    "dataset_name = \"cpn27\"\n",
    "file_path = '../data/raw_dataset/normalize/'\n",
    "\n",
    "if dataset_name == \"cpn27\":\n",
    "    # data = pd.read_csv(file_path+'CPN27_lemma.csv', delimiter=\",\")\n",
    "    data = pd.read_csv(file_path+'CPN27_normalize.csv', delimiter=\",\")\n",
    "    \n",
    "elif dataset_name == \"cpn120\":\n",
    "    data = pd.read_csv(file_path+'CPN120_normalize.csv', delimiter=\",\")\n",
    "\n",
    "# else:\n",
    "#     data = pd.read_csv(r'your-path/your-file.csv', delimiter=\",\")\n",
    "\n",
    "data.fillna(value='')"
   ]
  },
  {
   "attachments": {},
   "cell_type": "markdown",
   "metadata": {},
   "source": [
    "# Enviroment Configuration"
   ]
  },
  {
   "cell_type": "code",
   "execution_count": 9,
   "metadata": {},
   "outputs": [],
   "source": [
    "model = SentenceTransformer('dccuchile/bert-base-spanish-wwm-cased')\n",
    "\n",
    "nlp = spacy.load(cfg.enviroment.nlp)"
   ]
  },
  {
   "attachments": {},
   "cell_type": "markdown",
   "metadata": {},
   "source": [
    "# Word Embedding"
   ]
  },
  {
   "cell_type": "code",
   "execution_count": 10,
   "metadata": {},
   "outputs": [
    {
     "name": "stdout",
     "output_type": "stream",
     "text": [
      "Execution time: 0.4028456211090088\n"
     ]
    }
   ],
   "source": [
    "# Timer\n",
    "start = time.time()\n",
    "\n",
    "descriptions_matrix = np.zeros( # creatign an empty matrix\n",
    "    (\n",
    "        len(data),          # the number of data points\n",
    "        vector_length       # the number of components of the word embedding\n",
    "    )\n",
    ")\n",
    "\n",
    "# Matrix filling \n",
    "# Change to the name of the descriptions of your dataset.\n",
    "for i,description in enumerate(data.iloc[:,1]):\n",
    "    vector = model.encode(description)\n",
    "    descriptions_matrix[i,] = vector\n",
    "\n",
    "# Concatenate the matrix with the data of each observation\n",
    "data_matrix = np.concatenate([descriptions_matrix,data], axis=1)\n",
    "\n",
    "\n",
    "# Remove of the 'Nan' data\n",
    "data_matrix = data_matrix[~pd.isnull(data_matrix[:,:vector_length]).any(axis=1)]\n",
    "\n",
    "\n",
    "end = time.time()\n",
    "print(\"Exceution time:\", end-start)"
   ]
  },
  {
   "attachments": {},
   "cell_type": "markdown",
   "metadata": {},
   "source": [
    "# AC-PLT"
   ]
  },
  {
   "cell_type": "code",
   "execution_count": null,
   "metadata": {},
   "outputs": [],
   "source": [
    "from Experimentations import ParamSearch\n",
    "from AC_PLT import AC_PLT\n",
    "\n",
    "parameters = {'n_clusters': np.arange(50, 1800, 50)}\n",
    "ac_plt = AC_PLT()\n",
    "\n",
    "file_name = r'../data/results/Word2Vec/lemmatize/{}_{}_results.csv'.format(dataset_name, ac_plt.__class__.__name__)\n",
    "\n",
    "clf_acplt = ParamSearch(ac_plt, parameters)\n",
    "clf_acplt.fit(data_matrix[:, :cfg.params.vector_length], data_matrix[:, cfg.params.vector_length+2],file_name)"
   ]
  },
  {
   "attachments": {},
   "cell_type": "markdown",
   "metadata": {},
   "source": [
    "# Naïve Bayes"
   ]
  },
  {
   "cell_type": "code",
   "execution_count": 11,
   "metadata": {},
   "outputs": [
    {
     "name": "stderr",
     "output_type": "stream",
     "text": [
      "c:\\Users\\dra98\\OneDrive\\Documentos\\Trabajo\\Doctorado\\Codigo\\myvenv\\lib\\site-packages\\sklearn\\model_selection\\_split.py:700: UserWarning: The least populated class in y has only 1 members, which is less than n_splits=5.\n",
      "  warnings.warn(\n",
      "c:\\Users\\dra98\\OneDrive\\Documentos\\Trabajo\\Doctorado\\Codigo\\myvenv\\lib\\site-packages\\sklearn\\model_selection\\_split.py:700: UserWarning: The least populated class in y has only 1 members, which is less than n_splits=5.\n",
      "  warnings.warn(\n",
      "c:\\Users\\dra98\\OneDrive\\Documentos\\Trabajo\\Doctorado\\Codigo\\myvenv\\lib\\site-packages\\sklearn\\model_selection\\_split.py:700: UserWarning: The least populated class in y has only 1 members, which is less than n_splits=5.\n",
      "  warnings.warn(\n",
      "c:\\Users\\dra98\\OneDrive\\Documentos\\Trabajo\\Doctorado\\Codigo\\myvenv\\lib\\site-packages\\sklearn\\model_selection\\_split.py:700: UserWarning: The least populated class in y has only 1 members, which is less than n_splits=5.\n",
      "  warnings.warn(\n",
      "c:\\Users\\dra98\\OneDrive\\Documentos\\Trabajo\\Doctorado\\Codigo\\myvenv\\lib\\site-packages\\sklearn\\model_selection\\_split.py:700: UserWarning: The least populated class in y has only 1 members, which is less than n_splits=5.\n",
      "  warnings.warn(\n",
      "c:\\Users\\dra98\\OneDrive\\Documentos\\Trabajo\\Doctorado\\Codigo\\myvenv\\lib\\site-packages\\sklearn\\model_selection\\_split.py:700: UserWarning: The least populated class in y has only 1 members, which is less than n_splits=5.\n",
      "  warnings.warn(\n",
      "c:\\Users\\dra98\\OneDrive\\Documentos\\Trabajo\\Doctorado\\Codigo\\myvenv\\lib\\site-packages\\sklearn\\model_selection\\_split.py:700: UserWarning: The least populated class in y has only 1 members, which is less than n_splits=5.\n",
      "  warnings.warn(\n",
      "c:\\Users\\dra98\\OneDrive\\Documentos\\Trabajo\\Doctorado\\Codigo\\myvenv\\lib\\site-packages\\sklearn\\model_selection\\_split.py:700: UserWarning: The least populated class in y has only 1 members, which is less than n_splits=5.\n",
      "  warnings.warn(\n"
     ]
    },
    {
     "data": {
      "text/plain": [
       "<Experimentations.ParamSearch at 0x2430bb2ded0>"
      ]
     },
     "execution_count": 11,
     "metadata": {},
     "output_type": "execute_result"
    }
   ],
   "source": [
    "from Experimentations import ParamSearch\n",
    "from sklearn.naive_bayes import GaussianNB\n",
    "\n",
    "# parameters = {'var_smoothing': np.geomspace(1e-06, 1e+02, num=9)}\n",
    "parameters = {'var_smoothing': (20, 30, 40, 50, 60, 70, 80, 90)}\n",
    "proc = GaussianNB()\n",
    "\n",
    "file_name = r'../data/results/Word2Vec/{}_{}_results.csv'.format(dataset_name, proc.__class__.__name__)\n",
    "\n",
    "clf = ParamSearch(proc, parameters)\n",
    "clf.fit(data_matrix[:, :cfg.params.vector_length], data_matrix[:, cfg.params.vector_length+2], file_name)"
   ]
  },
  {
   "cell_type": "code",
   "execution_count": 11,
   "metadata": {},
   "outputs": [
    {
     "data": {
      "text/plain": [
       "{'params': [{'var_smoothing': 1e-06},\n",
       "  {'var_smoothing': 1e-05},\n",
       "  {'var_smoothing': 0.0001},\n",
       "  {'var_smoothing': 0.001},\n",
       "  {'var_smoothing': 0.01},\n",
       "  {'var_smoothing': 0.1},\n",
       "  {'var_smoothing': 1.0},\n",
       "  {'var_smoothing': 10.0},\n",
       "  {'var_smoothing': 100.0}],\n",
       " 'train_mean': array([0.7487839 , 0.74881529, 0.74887805, 0.74922327, 0.75047861,\n",
       "        0.74256215, 0.62481169, 0.60896311, 0.11165424]),\n",
       " 'train_std': array([0.00147615, 0.00147441, 0.0014603 , 0.00143501, 0.00152015,\n",
       "        0.00134227, 0.00228291, 0.00141481, 0.0018167 ]),\n",
       " 'test_mean': array([0.606955  , 0.60698638, 0.60701776, 0.60745711, 0.61100331,\n",
       "        0.61878623, 0.54017083, 0.53766016, 0.10968489]),\n",
       " 'test_std': array([0.0112798 , 0.01127949, 0.01107009, 0.01066549, 0.00886624,\n",
       "        0.0093967 , 0.00901088, 0.00739244, 0.00414743])}"
      ]
     },
     "execution_count": 11,
     "metadata": {},
     "output_type": "execute_result"
    }
   ],
   "source": [
    "clf.cv_results_"
   ]
  },
  {
   "cell_type": "code",
   "execution_count": 12,
   "metadata": {},
   "outputs": [
    {
     "data": {
      "text/plain": [
       "<Experimentations.ParamSearch at 0x2cbebb4d360>"
      ]
     },
     "execution_count": 12,
     "metadata": {},
     "output_type": "execute_result"
    }
   ],
   "source": [
    "clf.to_csv(r'../data/results/Word2Vec/{}_{}_results.csv'.format(dataset_name, proc.__class__.__name__))"
   ]
  },
  {
   "attachments": {},
   "cell_type": "markdown",
   "metadata": {},
   "source": [
    "# Support Vector Classifier"
   ]
  },
  {
   "cell_type": "code",
   "execution_count": 8,
   "metadata": {},
   "outputs": [
    {
     "name": "stderr",
     "output_type": "stream",
     "text": [
      "c:\\Users\\dra98\\OneDrive\\Documentos\\Trabajo\\Doctorado\\Codigo\\myvenv\\lib\\site-packages\\sklearn\\model_selection\\_split.py:700: UserWarning: The least populated class in y has only 1 members, which is less than n_splits=5.\n",
      "  warnings.warn(\n",
      "c:\\Users\\dra98\\OneDrive\\Documentos\\Trabajo\\Doctorado\\Codigo\\myvenv\\lib\\site-packages\\sklearn\\model_selection\\_split.py:700: UserWarning: The least populated class in y has only 1 members, which is less than n_splits=5.\n",
      "  warnings.warn(\n",
      "c:\\Users\\dra98\\OneDrive\\Documentos\\Trabajo\\Doctorado\\Codigo\\myvenv\\lib\\site-packages\\sklearn\\model_selection\\_split.py:700: UserWarning: The least populated class in y has only 1 members, which is less than n_splits=5.\n",
      "  warnings.warn(\n",
      "c:\\Users\\dra98\\OneDrive\\Documentos\\Trabajo\\Doctorado\\Codigo\\myvenv\\lib\\site-packages\\sklearn\\model_selection\\_split.py:700: UserWarning: The least populated class in y has only 1 members, which is less than n_splits=5.\n",
      "  warnings.warn(\n",
      "c:\\Users\\dra98\\OneDrive\\Documentos\\Trabajo\\Doctorado\\Codigo\\myvenv\\lib\\site-packages\\sklearn\\model_selection\\_split.py:700: UserWarning: The least populated class in y has only 1 members, which is less than n_splits=5.\n",
      "  warnings.warn(\n",
      "c:\\Users\\dra98\\OneDrive\\Documentos\\Trabajo\\Doctorado\\Codigo\\myvenv\\lib\\site-packages\\sklearn\\model_selection\\_split.py:700: UserWarning: The least populated class in y has only 1 members, which is less than n_splits=5.\n",
      "  warnings.warn(\n",
      "c:\\Users\\dra98\\OneDrive\\Documentos\\Trabajo\\Doctorado\\Codigo\\myvenv\\lib\\site-packages\\sklearn\\model_selection\\_split.py:700: UserWarning: The least populated class in y has only 1 members, which is less than n_splits=5.\n",
      "  warnings.warn(\n"
     ]
    },
    {
     "data": {
      "text/plain": [
       "<Experimentations.ParamSearch at 0x2443c1217e0>"
      ]
     },
     "execution_count": 8,
     "metadata": {},
     "output_type": "execute_result"
    }
   ],
   "source": [
    "from Experimentations import ParamSearch\n",
    "from sklearn.svm import SVC\n",
    "\n",
    "kernel='rbf'\n",
    "parameters = {'C': np.geomspace(1e-05, 1e+01, num=7)}\n",
    "svc_rbf = SVC(kernel=kernel, gamma='auto')\n",
    "fileName = r'../data/results/Word2Vec/{}_{}{}_results.csv'.format(dataset_name, svc_rbf.__class__.__name__, kernel)\n",
    "\n",
    "clf_acplt = ParamSearch(svc_rbf, parameters)\n",
    "clf_acplt.fit(data_matrix[:, :cfg.params.vector_length], data_matrix[:, cfg.params.vector_length+2], fileName)"
   ]
  },
  {
   "cell_type": "code",
   "execution_count": 9,
   "metadata": {},
   "outputs": [
    {
     "name": "stderr",
     "output_type": "stream",
     "text": [
      "c:\\Users\\dra98\\OneDrive\\Documentos\\Trabajo\\Doctorado\\Codigo\\myvenv\\lib\\site-packages\\sklearn\\model_selection\\_split.py:700: UserWarning: The least populated class in y has only 1 members, which is less than n_splits=5.\n",
      "  warnings.warn(\n",
      "c:\\Users\\dra98\\OneDrive\\Documentos\\Trabajo\\Doctorado\\Codigo\\myvenv\\lib\\site-packages\\sklearn\\model_selection\\_split.py:700: UserWarning: The least populated class in y has only 1 members, which is less than n_splits=5.\n",
      "  warnings.warn(\n",
      "c:\\Users\\dra98\\OneDrive\\Documentos\\Trabajo\\Doctorado\\Codigo\\myvenv\\lib\\site-packages\\sklearn\\model_selection\\_split.py:700: UserWarning: The least populated class in y has only 1 members, which is less than n_splits=5.\n",
      "  warnings.warn(\n",
      "c:\\Users\\dra98\\OneDrive\\Documentos\\Trabajo\\Doctorado\\Codigo\\myvenv\\lib\\site-packages\\sklearn\\model_selection\\_split.py:700: UserWarning: The least populated class in y has only 1 members, which is less than n_splits=5.\n",
      "  warnings.warn(\n"
     ]
    },
    {
     "data": {
      "text/plain": [
       "<Experimentations.ParamSearch at 0x24446d72a40>"
      ]
     },
     "execution_count": 9,
     "metadata": {},
     "output_type": "execute_result"
    }
   ],
   "source": [
    "from Experimentations import ParamSearch\n",
    "from sklearn.svm import SVC\n",
    "\n",
    "kernel='rbf'\n",
    "parameters = {'C': np.geomspace(1e01, 1e+04, num=4)}\n",
    "svc_rbf = SVC(kernel=kernel, gamma='auto')\n",
    "fileName = r'../data/results/Word2Vec/{}_{}{}_results.csv'.format(dataset_name, svc_rbf.__class__.__name__, kernel)\n",
    "\n",
    "clf_acplt = ParamSearch(svc_rbf, parameters)\n",
    "clf_acplt.fit(data_matrix[:, :cfg.params.vector_length], data_matrix[:, cfg.params.vector_length+2], fileName)"
   ]
  },
  {
   "cell_type": "code",
   "execution_count": 14,
   "metadata": {},
   "outputs": [
    {
     "name": "stderr",
     "output_type": "stream",
     "text": [
      "c:\\Users\\dra98\\OneDrive\\Documentos\\Trabajo\\Doctorado\\Codigo\\myvenv\\lib\\site-packages\\sklearn\\model_selection\\_split.py:700: UserWarning: The least populated class in y has only 1 members, which is less than n_splits=5.\n",
      "  warnings.warn(\n",
      "c:\\Users\\dra98\\OneDrive\\Documentos\\Trabajo\\Doctorado\\Codigo\\myvenv\\lib\\site-packages\\sklearn\\model_selection\\_split.py:700: UserWarning: The least populated class in y has only 1 members, which is less than n_splits=5.\n",
      "  warnings.warn(\n",
      "c:\\Users\\dra98\\OneDrive\\Documentos\\Trabajo\\Doctorado\\Codigo\\myvenv\\lib\\site-packages\\sklearn\\model_selection\\_split.py:700: UserWarning: The least populated class in y has only 1 members, which is less than n_splits=5.\n",
      "  warnings.warn(\n",
      "c:\\Users\\dra98\\OneDrive\\Documentos\\Trabajo\\Doctorado\\Codigo\\myvenv\\lib\\site-packages\\sklearn\\model_selection\\_split.py:700: UserWarning: The least populated class in y has only 1 members, which is less than n_splits=5.\n",
      "  warnings.warn(\n",
      "c:\\Users\\dra98\\OneDrive\\Documentos\\Trabajo\\Doctorado\\Codigo\\myvenv\\lib\\site-packages\\sklearn\\model_selection\\_split.py:700: UserWarning: The least populated class in y has only 1 members, which is less than n_splits=5.\n",
      "  warnings.warn(\n",
      "c:\\Users\\dra98\\OneDrive\\Documentos\\Trabajo\\Doctorado\\Codigo\\myvenv\\lib\\site-packages\\sklearn\\model_selection\\_split.py:700: UserWarning: The least populated class in y has only 1 members, which is less than n_splits=5.\n",
      "  warnings.warn(\n",
      "c:\\Users\\dra98\\OneDrive\\Documentos\\Trabajo\\Doctorado\\Codigo\\myvenv\\lib\\site-packages\\sklearn\\model_selection\\_split.py:700: UserWarning: The least populated class in y has only 1 members, which is less than n_splits=5.\n",
      "  warnings.warn(\n"
     ]
    },
    {
     "data": {
      "text/plain": [
       "<Experimentations.ParamSearch at 0x2cbebb4fa30>"
      ]
     },
     "execution_count": 14,
     "metadata": {},
     "output_type": "execute_result"
    }
   ],
   "source": [
    "from Experimentations import ParamSearch\n",
    "from sklearn.svm import SVC\n",
    "\n",
    "kernel='linear'\n",
    "parameters = {'C': np.geomspace(1e-05, 1e+01, num=7)}\n",
    "svc_rbf = SVC(kernel=kernel, gamma='auto')\n",
    "\n",
    "clf_acplt = ParamSearch(svc_rbf, parameters)\n",
    "clf_acplt.fit(data_matrix[:, :cfg.params.vector_length], data_matrix[:, cfg.params.vector_length+2])\n",
    "\n",
    "clf_acplt.to_csv(r'../data/results/Word2Vec/{}_{}{}_results.csv'.format(dataset_name, svc_rbf.__class__.__name__, kernel))"
   ]
  },
  {
   "cell_type": "code",
   "execution_count": 10,
   "metadata": {},
   "outputs": [
    {
     "name": "stderr",
     "output_type": "stream",
     "text": [
      "c:\\Users\\dra98\\OneDrive\\Documentos\\Trabajo\\Doctorado\\Codigo\\myvenv\\lib\\site-packages\\sklearn\\model_selection\\_split.py:700: UserWarning: The least populated class in y has only 1 members, which is less than n_splits=5.\n",
      "  warnings.warn(\n"
     ]
    },
    {
     "name": "stderr",
     "output_type": "stream",
     "text": [
      "c:\\Users\\dra98\\OneDrive\\Documentos\\Trabajo\\Doctorado\\Codigo\\myvenv\\lib\\site-packages\\sklearn\\model_selection\\_split.py:700: UserWarning: The least populated class in y has only 1 members, which is less than n_splits=5.\n",
      "  warnings.warn(\n",
      "c:\\Users\\dra98\\OneDrive\\Documentos\\Trabajo\\Doctorado\\Codigo\\myvenv\\lib\\site-packages\\sklearn\\model_selection\\_split.py:700: UserWarning: The least populated class in y has only 1 members, which is less than n_splits=5.\n",
      "  warnings.warn(\n",
      "c:\\Users\\dra98\\OneDrive\\Documentos\\Trabajo\\Doctorado\\Codigo\\myvenv\\lib\\site-packages\\sklearn\\model_selection\\_split.py:700: UserWarning: The least populated class in y has only 1 members, which is less than n_splits=5.\n",
      "  warnings.warn(\n",
      "c:\\Users\\dra98\\OneDrive\\Documentos\\Trabajo\\Doctorado\\Codigo\\myvenv\\lib\\site-packages\\sklearn\\model_selection\\_split.py:700: UserWarning: The least populated class in y has only 1 members, which is less than n_splits=5.\n",
      "  warnings.warn(\n",
      "c:\\Users\\dra98\\OneDrive\\Documentos\\Trabajo\\Doctorado\\Codigo\\myvenv\\lib\\site-packages\\sklearn\\model_selection\\_split.py:700: UserWarning: The least populated class in y has only 1 members, which is less than n_splits=5.\n",
      "  warnings.warn(\n"
     ]
    },
    {
     "data": {
      "text/plain": [
       "<Experimentations.ParamSearch at 0x24446d723b0>"
      ]
     },
     "execution_count": 10,
     "metadata": {},
     "output_type": "execute_result"
    }
   ],
   "source": [
    "from Experimentations import ParamSearch\n",
    "from sklearn.svm import SVC\n",
    "\n",
    "kernel='poly'\n",
    "parameters = {'degree': np.arange(1,7)}\n",
    "svc_rbf = SVC(kernel=kernel, gamma='auto')\n",
    "fileName = r'../data/results/Word2Vec/{}_{}{}_results.csv'.format(dataset_name, svc_rbf.__class__.__name__, kernel)\n",
    "\n",
    "\n",
    "clf_acplt = ParamSearch(svc_rbf, parameters)\n",
    "clf_acplt.fit(data_matrix[:, :cfg.params.vector_length], data_matrix[:, cfg.params.vector_length+2], fileName)"
   ]
  },
  {
   "cell_type": "code",
   "execution_count": null,
   "metadata": {},
   "outputs": [],
   "source": [
    "from Experimentations import ParamSearch\n",
    "from sklearn.svm import SVC\n",
    "\n",
    "kernel='sigmoid'\n",
    "parameters = {'C': np.geomspace(1e-05, 1e+01, num=7)}\n",
    "svc_rbf = SVC(kernel=kernel, gamma='auto')\n",
    "fileName = r'../data/results/Word2Vec/{}_{}{}_results.csv'.format(dataset_name, svc_rbf.__class__.__name__, kernel)\n",
    "\n",
    "\n",
    "clf_acplt = ParamSearch(svc_rbf, parameters)\n",
    "clf_acplt.fit(data_matrix[:, :cfg.params.vector_length], data_matrix[:, cfg.params.vector_length+2], fileName)"
   ]
  },
  {
   "attachments": {},
   "cell_type": "markdown",
   "metadata": {},
   "source": [
    "# Decision Trees"
   ]
  },
  {
   "cell_type": "code",
   "execution_count": 13,
   "metadata": {},
   "outputs": [
    {
     "name": "stderr",
     "output_type": "stream",
     "text": [
      "c:\\Users\\dra98\\OneDrive\\Documentos\\Trabajo\\Doctorado\\Codigo\\myvenv\\lib\\site-packages\\sklearn\\model_selection\\_split.py:700: UserWarning: The least populated class in y has only 1 members, which is less than n_splits=5.\n",
      "  warnings.warn(\n",
      "c:\\Users\\dra98\\OneDrive\\Documentos\\Trabajo\\Doctorado\\Codigo\\myvenv\\lib\\site-packages\\sklearn\\model_selection\\_split.py:700: UserWarning: The least populated class in y has only 1 members, which is less than n_splits=5.\n",
      "  warnings.warn(\n",
      "c:\\Users\\dra98\\OneDrive\\Documentos\\Trabajo\\Doctorado\\Codigo\\myvenv\\lib\\site-packages\\sklearn\\model_selection\\_split.py:700: UserWarning: The least populated class in y has only 1 members, which is less than n_splits=5.\n",
      "  warnings.warn(\n",
      "c:\\Users\\dra98\\OneDrive\\Documentos\\Trabajo\\Doctorado\\Codigo\\myvenv\\lib\\site-packages\\sklearn\\model_selection\\_split.py:700: UserWarning: The least populated class in y has only 1 members, which is less than n_splits=5.\n",
      "  warnings.warn(\n",
      "c:\\Users\\dra98\\OneDrive\\Documentos\\Trabajo\\Doctorado\\Codigo\\myvenv\\lib\\site-packages\\sklearn\\model_selection\\_split.py:700: UserWarning: The least populated class in y has only 1 members, which is less than n_splits=5.\n",
      "  warnings.warn(\n",
      "c:\\Users\\dra98\\OneDrive\\Documentos\\Trabajo\\Doctorado\\Codigo\\myvenv\\lib\\site-packages\\sklearn\\model_selection\\_split.py:700: UserWarning: The least populated class in y has only 1 members, which is less than n_splits=5.\n",
      "  warnings.warn(\n",
      "c:\\Users\\dra98\\OneDrive\\Documentos\\Trabajo\\Doctorado\\Codigo\\myvenv\\lib\\site-packages\\sklearn\\model_selection\\_split.py:700: UserWarning: The least populated class in y has only 1 members, which is less than n_splits=5.\n",
      "  warnings.warn(\n",
      "c:\\Users\\dra98\\OneDrive\\Documentos\\Trabajo\\Doctorado\\Codigo\\myvenv\\lib\\site-packages\\sklearn\\model_selection\\_split.py:700: UserWarning: The least populated class in y has only 1 members, which is less than n_splits=5.\n",
      "  warnings.warn(\n",
      "c:\\Users\\dra98\\OneDrive\\Documentos\\Trabajo\\Doctorado\\Codigo\\myvenv\\lib\\site-packages\\sklearn\\model_selection\\_split.py:700: UserWarning: The least populated class in y has only 1 members, which is less than n_splits=5.\n",
      "  warnings.warn(\n",
      "c:\\Users\\dra98\\OneDrive\\Documentos\\Trabajo\\Doctorado\\Codigo\\myvenv\\lib\\site-packages\\sklearn\\model_selection\\_split.py:700: UserWarning: The least populated class in y has only 1 members, which is less than n_splits=5.\n",
      "  warnings.warn(\n",
      "c:\\Users\\dra98\\OneDrive\\Documentos\\Trabajo\\Doctorado\\Codigo\\myvenv\\lib\\site-packages\\sklearn\\model_selection\\_split.py:700: UserWarning: The least populated class in y has only 1 members, which is less than n_splits=5.\n",
      "  warnings.warn(\n",
      "c:\\Users\\dra98\\OneDrive\\Documentos\\Trabajo\\Doctorado\\Codigo\\myvenv\\lib\\site-packages\\sklearn\\model_selection\\_split.py:700: UserWarning: The least populated class in y has only 1 members, which is less than n_splits=5.\n",
      "  warnings.warn(\n",
      "c:\\Users\\dra98\\OneDrive\\Documentos\\Trabajo\\Doctorado\\Codigo\\myvenv\\lib\\site-packages\\sklearn\\model_selection\\_split.py:700: UserWarning: The least populated class in y has only 1 members, which is less than n_splits=5.\n",
      "  warnings.warn(\n",
      "c:\\Users\\dra98\\OneDrive\\Documentos\\Trabajo\\Doctorado\\Codigo\\myvenv\\lib\\site-packages\\sklearn\\model_selection\\_split.py:700: UserWarning: The least populated class in y has only 1 members, which is less than n_splits=5.\n",
      "  warnings.warn(\n",
      "c:\\Users\\dra98\\OneDrive\\Documentos\\Trabajo\\Doctorado\\Codigo\\myvenv\\lib\\site-packages\\sklearn\\model_selection\\_split.py:700: UserWarning: The least populated class in y has only 1 members, which is less than n_splits=5.\n",
      "  warnings.warn(\n"
     ]
    },
    {
     "data": {
      "text/plain": [
       "<Experimentations.ParamSearch at 0x20abd22bd00>"
      ]
     },
     "execution_count": 13,
     "metadata": {},
     "output_type": "execute_result"
    }
   ],
   "source": [
    "from Experimentations import ParamSearch\n",
    "from sklearn.tree import DecisionTreeClassifier\n",
    "\n",
    "criterion = 'gini'\n",
    "parameters = {'max_leaf_nodes': np.arange(100, 1501, 100)}\n",
    "desition_tree = DecisionTreeClassifier(criterion=criterion)\n",
    "fileName = r'../data/results/Word2Vec/{}_{}_{}_results.csv'.format(dataset_name, desition_tree.__class__.__name__, criterion)\n",
    "\n",
    "clf_acplt = ParamSearch(desition_tree, parameters)\n",
    "clf_acplt.fit(data_matrix[:, :cfg.params.vector_length], data_matrix[:, cfg.params.vector_length+2], fileName)\n",
    "\n",
    "# clf_acplt.to_csv()"
   ]
  },
  {
   "cell_type": "markdown",
   "metadata": {},
   "source": [
    "# XGBoost"
   ]
  },
  {
   "cell_type": "code",
   "execution_count": 7,
   "metadata": {},
   "outputs": [],
   "source": [
    "cod = pd.DataFrame(data_matrix).iloc[:,cfg.params.vector_length+2].value_counts()\n",
    "reduce_cod = cod[cod<5]\n",
    "n=5\n",
    "data_fill = pd.DataFrame(data_matrix).copy()\n",
    "\n",
    "for key, value in reduce_cod.items():\n",
    "    m=np.abs(n-value)\n",
    "    nrow = np.zeros(cfg.params.vector_length)\n",
    "    nrow = np.concatenate([nrow, np.array(['', '', key])])\n",
    "    for i in range(m): data_fill = np.vstack([data_fill,nrow])"
   ]
  },
  {
   "cell_type": "code",
   "execution_count": 8,
   "metadata": {},
   "outputs": [],
   "source": [
    "y = data_fill[:, cfg.params.vector_length+2]\n",
    "\n",
    "labels = np.unique(y)\n",
    "i=0\n",
    "idx2class = {}\n",
    "class2idx= {}\n",
    "for tp in labels:\n",
    "    idx2class[i] = tp\n",
    "    class2idx[tp] = i\n",
    "    i += 1\n",
    "\n",
    "y_label = np.vectorize(class2idx.get)(y)"
   ]
  },
  {
   "cell_type": "code",
   "execution_count": 9,
   "metadata": {},
   "outputs": [],
   "source": [
    "from xgboost import XGBClassifier\n",
    "from Experimentations import ParamSearch\n",
    "\n",
    "max_levels = [5,10,50,100,200,300]\n",
    "\n",
    "parameters = {'max_depth': max_levels, 'n_estimators': np.arange(1, 20, 1)}\n",
    "\n",
    "bst = XGBClassifier(learning_rate=1, objective='multi:softprob', random_state=0)\n",
    "fileName = r'../data/results/Word2Vec/{}_{}_results.csv'.format(dataset_name, bst.__class__.__name__)\n",
    "\n",
    "clf_acplt = ParamSearch(bst, parameters)\n",
    "clf_acplt.fit(data_fill[:, :cfg.params.vector_length], y_label, fileName)\n"
   ]
  },
  {
   "cell_type": "markdown",
   "metadata": {},
   "source": [
    "# Random Forest\n",
    "Ejecutar las celdas de Xgboost"
   ]
  },
  {
   "cell_type": "code",
   "execution_count": null,
   "metadata": {},
   "outputs": [],
   "source": [
    "from sklearn.ensemble import RandomForestClassifier\n",
    "from Experimentations import ParamSearch\n",
    "\n",
    "max_levels = [5,10,50,100,200,300]\n",
    "\n",
    "parameters = {'max_depht': max_levels}\n",
    "rndforest = RandomForestClassifier(random_state=0)\n",
    "fileName = r'../data/results/Word2Vec/{}_{}_results.csv'.format(dataset_name, rndforest.__class__.__name__)\n",
    "\n",
    "clf_acplt = ParamSearch(rndforest, parameters)\n",
    "clf_acplt.fit(data_fill[:, :cfg.params.vector_length], y_label, fileName)\n"
   ]
  },
  {
   "cell_type": "markdown",
   "metadata": {},
   "source": [
    "# KNN"
   ]
  },
  {
   "cell_type": "code",
   "execution_count": null,
   "metadata": {},
   "outputs": [],
   "source": [
    "from Experimentations import ParamSearch\n",
    "from sklearn.neighbors import KNeighborsClassifier\n",
    "\n",
    "parameters = {'n_neighbors': np.arange(10, 501, 10)}\n",
    "knn = KNeighborsClassifier()\n",
    "fileName = r'../data/results/Word2Vec/{}_{}_results.csv'.format(dataset_name, knn.__class__.__name__)\n",
    "\n",
    "clf_acplt = ParamSearch(knn, parameters)\n",
    "clf_acplt.fit(data.iloc[:, :cfg.params.vector_length].to_numpy(), data.iloc[:, cfg.params.vector_length+2].to_numpy(), fileName)"
   ]
  }
 ],
 "metadata": {
  "kernelspec": {
   "display_name": "myvenv",
   "language": "python",
   "name": "python3"
  },
  "language_info": {
   "codemirror_mode": {
    "name": "ipython",
    "version": 3
   },
   "file_extension": ".py",
   "mimetype": "text/x-python",
   "name": "python",
   "nbconvert_exporter": "python",
   "pygments_lexer": "ipython3",
   "version": "3.10.9"
  },
  "orig_nbformat": 4
 },
 "nbformat": 4,
 "nbformat_minor": 2
}
