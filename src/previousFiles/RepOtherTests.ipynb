{
 "cells": [
  {
   "attachments": {},
   "cell_type": "markdown",
   "metadata": {},
   "source": [
    "# CPN generator\n",
    "\n",
    "## Table of contents\n",
    "1. [Libraries](##Libraries)\n",
    "2. [Set of the Language](##Set-of-the-Language)\n",
    "3. [Important functions](##important-functions)\n",
    "4. [Data Cleaning](#data-cleaning)\n",
    "5. [Word Embedding](##word-embedding)\n",
    "6. [Model](#model)\n",
    "7. [Experiments](#experiments)\n",
    "8. [Search of hyperparameter *k*](#search-of-hyperparameter-k)\n",
    "\n",
    "\n",
    "## [Libraries](##Libraries)"
   ]
  },
  {
   "cell_type": "code",
   "execution_count": 1,
   "metadata": {},
   "outputs": [],
   "source": [
    "# Uncomment to install all the requirement\n",
    "# ! pip install -r requirements.txt"
   ]
  },
  {
   "cell_type": "code",
   "execution_count": 2,
   "metadata": {},
   "outputs": [
    {
     "name": "stderr",
     "output_type": "stream",
     "text": [
      "/home/jsmf/.local/lib/python3.10/site-packages/tqdm/auto.py:21: TqdmWarning: IProgress not found. Please update jupyter and ipywidgets. See https://ipywidgets.readthedocs.io/en/stable/user_install.html\n",
      "  from .autonotebook import tqdm as notebook_tqdm\n"
     ]
    }
   ],
   "source": [
    "import pandas as pd\n",
    "import numpy as np\n",
    "from scipy.spatial import distance\n",
    "from collections import Counter \n",
    "import random\n",
    "import time\n",
    "\n",
    "# nlp\n",
    "import spacy\n",
    "import gensim\n",
    "from sentence_transformers import SentenceTransformer\n",
    "\n",
    "# Clasification\n",
    "import sklearn.cluster\n",
    "import sklearn.tree\n",
    "import sklearn.naive_bayes\n",
    "from sklearn.model_selection import KFold\n",
    "\n",
    "\n",
    "# Set of the random seed for the kmeans model\n",
    "random.seed(0)"
   ]
  },
  {
   "attachments": {},
   "cell_type": "markdown",
   "metadata": {},
   "source": [
    "## [Important Variables](##important-variables)"
   ]
  },
  {
   "cell_type": "code",
   "execution_count": 3,
   "metadata": {},
   "outputs": [],
   "source": [
    "# PATHS\n",
    "# This the path to run the main example, for your data change the path to your data\n",
    " \n",
    "pathData = r'data/CPN120.csv'         # Path of the data to test the model\n",
    "pathEmbedding = r'data/SBW-vectors-300-min5.bin'  # For example in Spanish"
   ]
  },
  {
   "cell_type": "code",
   "execution_count": 4,
   "metadata": {},
   "outputs": [],
   "source": [
    "# VARIABLES\n",
    "numberCluster = 500 # Number of clusters for the k-means model\n",
    "numberCodes = 3 # Number of code you want as suggestion.\n",
    "language = \"spanish\" # you can change to \"english\"\n",
    "vertor_lenght = 768 # Length of the vector you are going to use "
   ]
  },
  {
   "attachments": {},
   "cell_type": "markdown",
   "metadata": {},
   "source": [
    "## [Language Setting](#language-setting)"
   ]
  },
  {
   "cell_type": "code",
   "execution_count": 5,
   "metadata": {
    "scrolled": true
   },
   "outputs": [],
   "source": [
    "# Data import\n",
    "# Relative Path of the dataset, change for your dataset\n",
    "data = pd.read_csv(pathData, delimiter=\",\")\n",
    "\n",
    "# Load of the LaBSE model\n",
    "model = SentenceTransformer('sentence-transformers/LaBSE')\n",
    "# model = SentenceTransformer('google/canine-s')\n",
    "\n",
    "\n",
    "# Import of the model of the spanish billion words embeddings\n",
    "# if language==\"spanish\":\n",
    "#    model = gensim.models.KeyedVectors.load_word2vec_format( \n",
    "#    'SBW-vectors-300-min5.bin.gz', # Relative path of the vector\n",
    "#    binary=True  # The model is in binary format\n",
    "#    ) \n",
    "#else:\n",
    "#    # Import of the model of the word2vec-google-news-300 for English dataset\n",
    "#    model = gensim.models.KeyedVectors.load_word2vec_format( \n",
    "#    pathEmbedding, # Relative path of the vector\n",
    "#    binary=False # The model is in binary format\n",
    "#    )    \n"
   ]
  },
  {
   "cell_type": "code",
   "execution_count": 6,
   "metadata": {},
   "outputs": [
    {
     "data": {
      "text/html": [
       "<div>\n",
       "<style scoped>\n",
       "    .dataframe tbody tr th:only-of-type {\n",
       "        vertical-align: middle;\n",
       "    }\n",
       "\n",
       "    .dataframe tbody tr th {\n",
       "        vertical-align: top;\n",
       "    }\n",
       "\n",
       "    .dataframe thead th {\n",
       "        text-align: right;\n",
       "    }\n",
       "</style>\n",
       "<table border=\"1\" class=\"dataframe\">\n",
       "  <thead>\n",
       "    <tr style=\"text-align: right;\">\n",
       "      <th></th>\n",
       "      <th>Concepto</th>\n",
       "      <th>Respuesta</th>\n",
       "      <th>Codigo</th>\n",
       "    </tr>\n",
       "  </thead>\n",
       "  <tbody>\n",
       "    <tr>\n",
       "      <th>0</th>\n",
       "      <td>granito</td>\n",
       "      <td>tierra</td>\n",
       "      <td>terrestre</td>\n",
       "    </tr>\n",
       "    <tr>\n",
       "      <th>1</th>\n",
       "      <td>granito</td>\n",
       "      <td>rugoso</td>\n",
       "      <td>texturas</td>\n",
       "    </tr>\n",
       "    <tr>\n",
       "      <th>2</th>\n",
       "      <td>granito</td>\n",
       "      <td>construcción</td>\n",
       "      <td>material_construccion</td>\n",
       "    </tr>\n",
       "    <tr>\n",
       "      <th>3</th>\n",
       "      <td>granito</td>\n",
       "      <td>desagradable al tacto</td>\n",
       "      <td>texturas</td>\n",
       "    </tr>\n",
       "    <tr>\n",
       "      <th>4</th>\n",
       "      <td>granito</td>\n",
       "      <td>raspa</td>\n",
       "      <td>lastimar</td>\n",
       "    </tr>\n",
       "  </tbody>\n",
       "</table>\n",
       "</div>"
      ],
      "text/plain": [
       "  Concepto              Respuesta                 Codigo\n",
       "0  granito                 tierra              terrestre\n",
       "1  granito                 rugoso               texturas\n",
       "2  granito           construcción  material_construccion\n",
       "3  granito  desagradable al tacto               texturas\n",
       "4  granito                  raspa               lastimar"
      ]
     },
     "execution_count": 6,
     "metadata": {},
     "output_type": "execute_result"
    }
   ],
   "source": [
    "# The most important is the order of the 3 rows (Concept, Feature, and Code), the name itself is not important.\n",
    "# Code is important for the training of the model.\n",
    "data.head(5)"
   ]
  },
  {
   "attachments": {},
   "cell_type": "markdown",
   "metadata": {},
   "source": [
    "Installation of the Spanish pipeline. Change depending on the language you are using it.\n",
    "\n",
    "More info in the page of spacy."
   ]
  },
  {
   "cell_type": "code",
   "execution_count": null,
   "metadata": {
    "scrolled": true
   },
   "outputs": [],
   "source": [
    "# Download each one depending on your language preference\n",
    "\n",
    "if language==\"spanish\":\n",
    "    !python3 -m spacy download es_core_news_sm    \n",
    "else:\n",
    "    !python3 -m spacy download en_core_news_sm\n"
   ]
  },
  {
   "cell_type": "code",
   "execution_count": 8,
   "metadata": {},
   "outputs": [],
   "source": [
    "# Configuration of spacy\n",
    "if language==\"spanish\":\n",
    "    nlp = spacy.load('es_core_news_sm')\n",
    "else:\n",
    "    nlp = spacy.load('en_core_news_sm')\n",
    "\n"
   ]
  },
  {
   "attachments": {},
   "cell_type": "markdown",
   "metadata": {},
   "source": [
    "## [Important functions](##important-functions)"
   ]
  },
  {
   "cell_type": "code",
   "execution_count": 9,
   "metadata": {},
   "outputs": [],
   "source": [
    "def clean_text(text):\n",
    "    \"\"\"\n",
    "    Recive a string and return the string in tokens without punctuations\n",
    "    and in lowercase\n",
    "    \"\"\"\n",
    "    # for each token in the sentence add to the list if is not a punctuation\n",
    "    return [t for t in nlp(text.lower()) if not t.is_punct]\n",
    "\n",
    "\n",
    "def normalize(tokens):\n",
    "    \"\"\"\n",
    "    Recive al list of string and return in one string without stop words\n",
    "    \"\"\"\n",
    "    # for each token if is not a stop word add the word to the list\n",
    "    words = [t.orth_ for t in tokens if not t.is_stop]\n",
    "\n",
    "    # return the tokens in one string\n",
    "    return(\" \".join(words))\n",
    "\n",
    "# Just in case you want to use it replace for normalize\n",
    "def lematize(tokens):\n",
    "    \"\"\"\n",
    "    Recive al list of string and return in one string without stop words \n",
    "    and Lematized\n",
    "    \"\"\"\n",
    "    # for each token if is not a stop word add the lemma of the word in the list\n",
    "    lemmas = [t.lemma_ for t in tokens if not t.is_stop]\n",
    "\n",
    "    # return the tokens in one string\n",
    "    return(\" \".join(lemmas))\n"
   ]
  },
  {
   "attachments": {},
   "cell_type": "markdown",
   "metadata": {},
   "source": [
    "## [Data Cleaning](##data-cleaning)"
   ]
  },
  {
   "cell_type": "code",
   "execution_count": 10,
   "metadata": {
    "scrolled": true
   },
   "outputs": [
    {
     "name": "stdout",
     "output_type": "stream",
     "text": [
      "Exceution time: 62.242780685424805\n"
     ]
    }
   ],
   "source": [
    "start = time.time()\n",
    "# Normalize of the feature\n",
    "for i in range(len(data)):\n",
    "    data['Respuesta'][i] = normalize(clean_text(data['Respuesta'][i])) # Change for the name of your dataset\n",
    "end = time.time()\n",
    "print(\"Exceution time:\", end-start)"
   ]
  },
  {
   "attachments": {},
   "cell_type": "markdown",
   "metadata": {},
   "source": [
    "## [Word Embedding](##word-embedding)"
   ]
  },
  {
   "cell_type": "code",
   "execution_count": 11,
   "metadata": {},
   "outputs": [
    {
     "name": "stdout",
     "output_type": "stream",
     "text": [
      "Exceution time: 109.77288246154785\n"
     ]
    }
   ],
   "source": [
    "# Timer\n",
    "start = time.time()\n",
    "\n",
    "\n",
    "# Creation of the matrix to make the clustering process\n",
    "descriptions_matrix = np.zeros( # creatign an empty matrix\n",
    "    (\n",
    "        len(data),     # the number of data points\n",
    "        vertor_lenght  # the number of components of the word embedding\n",
    "    )\n",
    ")\n",
    "\n",
    "# Matrix filling \n",
    "# Change to the name of the descriptions of your dataset.\n",
    "for i,description in enumerate(data.iloc[:,1]):\n",
    "    vector = model.encode(description)\n",
    "    descriptions_matrix[i,] = vector\n",
    "\n",
    "# Concatenate the matrix with the data of each observation\n",
    "data_matrix = np.concatenate([descriptions_matrix,data], axis=1)\n",
    "\n",
    "\n",
    "# Remove of the 'Nan' data\n",
    "data_matrix = data_matrix[~pd.isnull(data_matrix[:,:vertor_lenght]).any(axis=1)]\n",
    "\n",
    "\n",
    "end = time.time()\n",
    "print(\"Exceution time:\", end-start)"
   ]
  },
  {
   "cell_type": "code",
   "execution_count": 12,
   "metadata": {
    "scrolled": true
   },
   "outputs": [],
   "source": [
    "from sklearn.model_selection import KFold\n",
    "\n",
    "kfold=KFold(n_splits=5)\n",
    "\n",
    "train_acc = np.zeros(5)\n",
    "test_acc = np.zeros(5)\n",
    "\n",
    "tops=(0,2,4,9,49)\n",
    "\n",
    "i=0\n",
    "\n",
    "for train_index, test_index in kfold.split(data_matrix):\n",
    "    train = data_matrix[train_index, :]\n",
    "    test = data_matrix[test_index, :]\n",
    "\n",
    "    \n",
    "    # Model creation\n",
    "    model = sklearn.naive_bayes.GaussianNB(var_smoothing=1e-09)\n",
    "\n",
    "    model.fit(train[:,:vertor_lenght], train[:,vertor_lenght+2])\n",
    "\n",
    "\n",
    "    pred_train = model.predict(train[:,:vertor_lenght])\n",
    "    pred_test = model.predict(test[:,:vertor_lenght])\n",
    "\n",
    "    train_acc[i] = sum(pred_train==train[:,vertor_lenght+2])/len(pred_train)\n",
    "    test_acc[i] = sum(pred_test==test[:,vertor_lenght+2])/len(pred_test)\n",
    "\n",
    "    i+=1"
   ]
  },
  {
   "cell_type": "code",
   "execution_count": 13,
   "metadata": {
    "scrolled": false
   },
   "outputs": [
    {
     "name": "stdout",
     "output_type": "stream",
     "text": [
      "0.7357519518600396\n",
      "0.00278653721022378\n"
     ]
    }
   ],
   "source": [
    "print(train_acc.mean())\n",
    "print(train_acc.std())"
   ]
  },
  {
   "cell_type": "code",
   "execution_count": 14,
   "metadata": {
    "scrolled": true
   },
   "outputs": [
    {
     "name": "stdout",
     "output_type": "stream",
     "text": [
      "0.6012434707431077\n",
      "0.013285776180332484\n"
     ]
    }
   ],
   "source": [
    "print(test_acc.mean())\n",
    "print(test_acc.std())"
   ]
  },
  {
   "cell_type": "code",
   "execution_count": 15,
   "metadata": {},
   "outputs": [
    {
     "name": "stdout",
     "output_type": "stream",
     "text": [
      "K = 5\n",
      "K = 10\n",
      "K = 15\n",
      "K = 20\n",
      "K = 25\n",
      "K = 30\n",
      "K = 35\n",
      "K = 40\n",
      "K = 45\n",
      "K = 50\n",
      "K = 55\n",
      "K = 60\n"
     ]
    }
   ],
   "source": [
    "from sklearn.model_selection import KFold\n",
    "from sklearn.decomposition import PCA\n",
    "\n",
    "rango = range(5, 61, 5)\n",
    "\n",
    "\n",
    "k_acc_top_train = np.zeros((len(rango), 2))\n",
    "k_acc_top_test = np.zeros((len(rango), 2))\n",
    "\n",
    "\n",
    "j = 0\n",
    "for k in rango:\n",
    "    kfold=KFold(n_splits=5)\n",
    "\n",
    "    train_acc = np.zeros(5)\n",
    "    test_acc = np.zeros(5)\n",
    "\n",
    "    i = 0\n",
    "    for train_index, test_index in kfold.split(data_matrix):\n",
    "        train = data_matrix[train_index, :]\n",
    "        test = data_matrix[test_index, :]\n",
    "\n",
    "        pca = PCA(n_components=k)\n",
    "\n",
    "        X_train = pca.fit_transform(train[:,:vertor_lenght])\n",
    "        X_test = pca.fit_transform(test[:,:vertor_lenght])\n",
    "\n",
    "        model = sklearn.naive_bayes.GaussianNB()\n",
    "        \n",
    "        model.fit(X_train, train[:,vertor_lenght+2])\n",
    "        \n",
    "        \n",
    "        pred_train = model.predict(X_train)\n",
    "        pred_test = model.predict(X_test)\n",
    "        \n",
    "        \n",
    "        train_acc[i] = sum(pred_train==train[:,vertor_lenght+2])/len(pred_train)\n",
    "        test_acc[i] = sum(pred_test==test[:,vertor_lenght+2])/len(pred_test)\n",
    "\n",
    "        i+=1\n",
    "\n",
    "    k_acc_top_train[j, 0] = train_acc.mean(axis=0)\n",
    "    k_acc_top_train[j, 1] = train_acc.std(axis=0)\n",
    "\n",
    "    k_acc_top_test[j, 0] = test_acc.mean(axis=0)\n",
    "    k_acc_top_test[j, 1] = test_acc.std(axis=0)\n",
    "\n",
    "\n",
    "    j+=1\n",
    "    print(\"K =\", k)\n",
    "    "
   ]
  },
  {
   "cell_type": "code",
   "execution_count": 16,
   "metadata": {
    "scrolled": false
   },
   "outputs": [
    {
     "data": {
      "image/png": "[encoded data removed]",
      "text/plain": [
       "<Figure size 640x480 with 1 Axes>"
      ]
     },
     "metadata": {},
     "output_type": "display_data"
    },
    {
     "data": {
      "text/plain": [
       "<ggplot: (8773231233028)>"
      ]
     },
     "execution_count": 16,
     "metadata": {},
     "output_type": "execute_result"
    }
   ],
   "source": [
    "from numpy import size\n",
    "from plotnine import *\n",
    "\n",
    "p1 = (\n",
    "    ggplot()+\n",
    "    aes(x=rango)+\n",
    "    geom_line(aes(y=k_acc_top_test[:,0]), color=\"red\")+\n",
    "    geom_errorbar(aes(ymin = k_acc_top_test[:,0]-k_acc_top_test[:,1], ymax = k_acc_top_test[:,0]+k_acc_top_test[:,1]), color=\"red\")+\n",
    "    geom_line(aes(y=k_acc_top_train[:,0]), color='blue')+\n",
    "    geom_errorbar(aes(ymin = k_acc_top_train[:,0]-k_acc_top_train[:,1], ymax = k_acc_top_train[:,0]+k_acc_top_train[:,1]), color='blue')+\n",
    "    xlab(\"PCA\")+\n",
    "    ylab(\"Accuracy\")+\n",
    "    ggtitle(\"\")+\n",
    "    theme_bw()\n",
    ")\n",
    "\n",
    "p1"
   ]
  },
  {
   "cell_type": "code",
   "execution_count": 17,
   "metadata": {
    "scrolled": true
   },
   "outputs": [
    {
     "name": "stdout",
     "output_type": "stream",
     "text": [
      "K = 10\n",
      "K = 20\n",
      "K = 30\n",
      "K = 40\n",
      "K = 50\n",
      "K = 60\n",
      "K = 70\n",
      "K = 80\n",
      "K = 90\n",
      "K = 100\n",
      "K = 110\n",
      "K = 120\n",
      "K = 130\n",
      "K = 140\n",
      "K = 150\n",
      "K = 160\n",
      "K = 170\n",
      "K = 180\n",
      "K = 190\n",
      "K = 200\n",
      "K = 210\n",
      "K = 220\n",
      "K = 230\n",
      "K = 240\n",
      "K = 250\n",
      "K = 260\n",
      "K = 270\n",
      "K = 280\n",
      "K = 290\n",
      "K = 300\n"
     ]
    }
   ],
   "source": [
    "from sklearn.model_selection import KFold\n",
    "from sklearn.decomposition import PCA\n",
    "\n",
    "rango = range(10, 301, 10)\n",
    "\n",
    "\n",
    "k_acc_top_train = np.zeros((len(rango), 2))\n",
    "k_acc_top_test = np.zeros((len(rango), 2))\n",
    "\n",
    "\n",
    "j = 0\n",
    "for k in rango:\n",
    "    kfold=KFold(n_splits=5)\n",
    "\n",
    "    train_acc = np.zeros(5)\n",
    "    test_acc = np.zeros(5)\n",
    "\n",
    "    i = 0\n",
    "    for train_index, test_index in kfold.split(data_matrix):\n",
    "        train = data_matrix[train_index, :]\n",
    "        test = data_matrix[test_index, :]\n",
    "\n",
    "\n",
    "        model = sklearn.tree.DecisionTreeClassifier(max_depth=k)\n",
    "        \n",
    "        model.fit(train[:,:vertor_lenght], train[:,vertor_lenght+2])\n",
    "        \n",
    "        \n",
    "        pred_train = model.predict(train[:,:vertor_lenght])\n",
    "        pred_test = model.predict(test[:,:vertor_lenght])\n",
    "        \n",
    "        \n",
    "        train_acc[i] = sum(pred_train==train[:,vertor_lenght+2])/len(pred_train)\n",
    "        test_acc[i] = sum(pred_test==test[:,vertor_lenght+2])/len(pred_test)\n",
    "\n",
    "        i+=1\n",
    "\n",
    "    k_acc_top_train[j, 0] = train_acc.mean(axis=0)\n",
    "    k_acc_top_train[j, 1] = train_acc.std(axis=0)\n",
    "\n",
    "    k_acc_top_test[j, 0] = test_acc.mean(axis=0)\n",
    "    k_acc_top_test[j, 1] = test_acc.std(axis=0)\n",
    "    \n",
    "    pd.DataFrame(k_acc_top_train, columns=[\"mean\", \"std\"]).to_csv(\"k_acc_top_train_decisionTree.csv\", index=False)\n",
    "    pd.DataFrame(k_acc_top_test, columns=[\"mean\", \"std\"]).to_csv(\"k_acc_top_test_decisionTree.csv\", index=False)\n",
    "    \n",
    "\n",
    "    j+=1\n",
    "    print(\"K =\", k)\n",
    "    "
   ]
  },
  {
   "cell_type": "code",
   "execution_count": 18,
   "metadata": {
    "scrolled": false
   },
   "outputs": [
    {
     "data": {
      "image/png": "[encoded data removed]",
      "text/plain": [
       "<Figure size 640x480 with 1 Axes>"
      ]
     },
     "metadata": {},
     "output_type": "display_data"
    },
    {
     "data": {
      "text/plain": [
       "<ggplot: (8773231104412)>"
      ]
     },
     "execution_count": 18,
     "metadata": {},
     "output_type": "execute_result"
    }
   ],
   "source": [
    "from numpy import size\n",
    "from plotnine import *\n",
    "\n",
    "p1 = (\n",
    "    ggplot()+\n",
    "    aes(x=rango)+\n",
    "    geom_line(aes(y=k_acc_top_test[:,0]), color=\"red\")+\n",
    "    geom_errorbar(aes(ymin = k_acc_top_test[:,0]-k_acc_top_test[:,1], ymax = k_acc_top_test[:,0]+k_acc_top_test[:,1]), color=\"red\")+\n",
    "    geom_line(aes(y=k_acc_top_train[:,0]), color='blue')+\n",
    "    geom_errorbar(aes(ymin = k_acc_top_train[:,0]-k_acc_top_train[:,1], ymax = k_acc_top_train[:,0]+k_acc_top_train[:,1]), color='blue')+\n",
    "    xlab(\"max_depth\")+\n",
    "    ylab(\"Accuracy\")+\n",
    "    ggtitle(\"\")+\n",
    "    theme_bw()\n",
    ")\n",
    "\n",
    "p1"
   ]
  },
  {
   "cell_type": "code",
   "execution_count": 19,
   "metadata": {
    "scrolled": false
   },
   "outputs": [
    {
     "name": "stderr",
     "output_type": "stream",
     "text": [
      "/home/jsmf/.local/lib/python3.10/site-packages/sklearn/svm/_base.py:1244: ConvergenceWarning: Liblinear failed to converge, increase the number of iterations.\n",
      "/home/jsmf/.local/lib/python3.10/site-packages/sklearn/svm/_base.py:1244: ConvergenceWarning: Liblinear failed to converge, increase the number of iterations.\n",
      "/home/jsmf/.local/lib/python3.10/site-packages/sklearn/svm/_base.py:1244: ConvergenceWarning: Liblinear failed to converge, increase the number of iterations.\n",
      "/home/jsmf/.local/lib/python3.10/site-packages/sklearn/svm/_base.py:1244: ConvergenceWarning: Liblinear failed to converge, increase the number of iterations.\n",
      "/home/jsmf/.local/lib/python3.10/site-packages/sklearn/svm/_base.py:1244: ConvergenceWarning: Liblinear failed to converge, increase the number of iterations.\n"
     ]
    }
   ],
   "source": [
    "from sklearn.model_selection import KFold\n",
    "\n",
    "kfold=KFold(n_splits=5)\n",
    "\n",
    "train_acc = np.zeros(5)\n",
    "test_acc = np.zeros(5)\n",
    "\n",
    "tops=(0,2,4,9,49)\n",
    "\n",
    "i=0\n",
    "\n",
    "for train_index, test_index in kfold.split(data_matrix):\n",
    "    train = data_matrix[train_index, :]\n",
    "    test = data_matrix[test_index, :]\n",
    "\n",
    "    \n",
    "    # Model creation\n",
    "    model = sklearn.svm.LinearSVC(random_state=0, tol=1e-5, multi_class=\"crammer_singer\")\n",
    "    \n",
    "\n",
    "    model.fit(train[:,:vertor_lenght], train[:,vertor_lenght+2])\n",
    "\n",
    "\n",
    "    pred_train = model.predict(train[:,:vertor_lenght])\n",
    "    pred_test = model.predict(test[:,:vertor_lenght])\n",
    "\n",
    "    train_acc[i] = sum(pred_train==train[:,vertor_lenght+2])/len(pred_train)\n",
    "    test_acc[i] = sum(pred_test==test[:,vertor_lenght+2])/len(pred_test)\n",
    "\n",
    "    i+=1\n"
   ]
  },
  {
   "cell_type": "code",
   "execution_count": 20,
   "metadata": {},
   "outputs": [
    {
     "name": "stdout",
     "output_type": "stream",
     "text": [
      "0.8241746127705711\n",
      "0.0014877183524773518\n"
     ]
    }
   ],
   "source": [
    "print(train_acc.mean())\n",
    "print(train_acc.std())"
   ]
  },
  {
   "cell_type": "code",
   "execution_count": 21,
   "metadata": {
    "scrolled": true
   },
   "outputs": [
    {
     "name": "stdout",
     "output_type": "stream",
     "text": [
      "0.6779441803142159\n",
      "0.00802633536079044\n"
     ]
    }
   ],
   "source": [
    "print(test_acc.mean())\n",
    "print(test_acc.std())"
   ]
  },
  {
   "cell_type": "code",
   "execution_count": 22,
   "metadata": {},
   "outputs": [
    {
     "name": "stderr",
     "output_type": "stream",
     "text": [
      "/home/jsmf/.local/lib/python3.10/site-packages/sklearn/svm/_base.py:1244: ConvergenceWarning: Liblinear failed to converge, increase the number of iterations.\n",
      "/home/jsmf/.local/lib/python3.10/site-packages/sklearn/svm/_base.py:1244: ConvergenceWarning: Liblinear failed to converge, increase the number of iterations.\n",
      "/home/jsmf/.local/lib/python3.10/site-packages/sklearn/svm/_base.py:1244: ConvergenceWarning: Liblinear failed to converge, increase the number of iterations.\n",
      "/home/jsmf/.local/lib/python3.10/site-packages/sklearn/svm/_base.py:1244: ConvergenceWarning: Liblinear failed to converge, increase the number of iterations.\n",
      "/home/jsmf/.local/lib/python3.10/site-packages/sklearn/svm/_base.py:1244: ConvergenceWarning: Liblinear failed to converge, increase the number of iterations.\n"
     ]
    },
    {
     "name": "stdout",
     "output_type": "stream",
     "text": [
      "K = 0.001\n"
     ]
    },
    {
     "name": "stderr",
     "output_type": "stream",
     "text": [
      "/home/jsmf/.local/lib/python3.10/site-packages/sklearn/svm/_base.py:1244: ConvergenceWarning: Liblinear failed to converge, increase the number of iterations.\n",
      "/home/jsmf/.local/lib/python3.10/site-packages/sklearn/svm/_base.py:1244: ConvergenceWarning: Liblinear failed to converge, increase the number of iterations.\n",
      "/home/jsmf/.local/lib/python3.10/site-packages/sklearn/svm/_base.py:1244: ConvergenceWarning: Liblinear failed to converge, increase the number of iterations.\n",
      "/home/jsmf/.local/lib/python3.10/site-packages/sklearn/svm/_base.py:1244: ConvergenceWarning: Liblinear failed to converge, increase the number of iterations.\n",
      "/home/jsmf/.local/lib/python3.10/site-packages/sklearn/svm/_base.py:1244: ConvergenceWarning: Liblinear failed to converge, increase the number of iterations.\n"
     ]
    },
    {
     "name": "stdout",
     "output_type": "stream",
     "text": [
      "K = 0.01\n"
     ]
    },
    {
     "name": "stderr",
     "output_type": "stream",
     "text": [
      "/home/jsmf/.local/lib/python3.10/site-packages/sklearn/svm/_base.py:1244: ConvergenceWarning: Liblinear failed to converge, increase the number of iterations.\n",
      "/home/jsmf/.local/lib/python3.10/site-packages/sklearn/svm/_base.py:1244: ConvergenceWarning: Liblinear failed to converge, increase the number of iterations.\n",
      "/home/jsmf/.local/lib/python3.10/site-packages/sklearn/svm/_base.py:1244: ConvergenceWarning: Liblinear failed to converge, increase the number of iterations.\n",
      "/home/jsmf/.local/lib/python3.10/site-packages/sklearn/svm/_base.py:1244: ConvergenceWarning: Liblinear failed to converge, increase the number of iterations.\n",
      "/home/jsmf/.local/lib/python3.10/site-packages/sklearn/svm/_base.py:1244: ConvergenceWarning: Liblinear failed to converge, increase the number of iterations.\n"
     ]
    },
    {
     "name": "stdout",
     "output_type": "stream",
     "text": [
      "K = 0.1\n"
     ]
    },
    {
     "name": "stderr",
     "output_type": "stream",
     "text": [
      "/home/jsmf/.local/lib/python3.10/site-packages/sklearn/svm/_base.py:1244: ConvergenceWarning: Liblinear failed to converge, increase the number of iterations.\n",
      "/home/jsmf/.local/lib/python3.10/site-packages/sklearn/svm/_base.py:1244: ConvergenceWarning: Liblinear failed to converge, increase the number of iterations.\n",
      "/home/jsmf/.local/lib/python3.10/site-packages/sklearn/svm/_base.py:1244: ConvergenceWarning: Liblinear failed to converge, increase the number of iterations.\n",
      "/home/jsmf/.local/lib/python3.10/site-packages/sklearn/svm/_base.py:1244: ConvergenceWarning: Liblinear failed to converge, increase the number of iterations.\n",
      "/home/jsmf/.local/lib/python3.10/site-packages/sklearn/svm/_base.py:1244: ConvergenceWarning: Liblinear failed to converge, increase the number of iterations.\n"
     ]
    },
    {
     "name": "stdout",
     "output_type": "stream",
     "text": [
      "K = 1.0\n"
     ]
    },
    {
     "name": "stderr",
     "output_type": "stream",
     "text": [
      "/home/jsmf/.local/lib/python3.10/site-packages/sklearn/svm/_base.py:1244: ConvergenceWarning: Liblinear failed to converge, increase the number of iterations.\n",
      "/home/jsmf/.local/lib/python3.10/site-packages/sklearn/svm/_base.py:1244: ConvergenceWarning: Liblinear failed to converge, increase the number of iterations.\n",
      "/home/jsmf/.local/lib/python3.10/site-packages/sklearn/svm/_base.py:1244: ConvergenceWarning: Liblinear failed to converge, increase the number of iterations.\n",
      "/home/jsmf/.local/lib/python3.10/site-packages/sklearn/svm/_base.py:1244: ConvergenceWarning: Liblinear failed to converge, increase the number of iterations.\n",
      "/home/jsmf/.local/lib/python3.10/site-packages/sklearn/svm/_base.py:1244: ConvergenceWarning: Liblinear failed to converge, increase the number of iterations.\n"
     ]
    },
    {
     "name": "stdout",
     "output_type": "stream",
     "text": [
      "K = 10.0\n"
     ]
    },
    {
     "name": "stderr",
     "output_type": "stream",
     "text": [
      "/home/jsmf/.local/lib/python3.10/site-packages/sklearn/svm/_base.py:1244: ConvergenceWarning: Liblinear failed to converge, increase the number of iterations.\n",
      "/home/jsmf/.local/lib/python3.10/site-packages/sklearn/svm/_base.py:1244: ConvergenceWarning: Liblinear failed to converge, increase the number of iterations.\n",
      "/home/jsmf/.local/lib/python3.10/site-packages/sklearn/svm/_base.py:1244: ConvergenceWarning: Liblinear failed to converge, increase the number of iterations.\n",
      "/home/jsmf/.local/lib/python3.10/site-packages/sklearn/svm/_base.py:1244: ConvergenceWarning: Liblinear failed to converge, increase the number of iterations.\n",
      "/home/jsmf/.local/lib/python3.10/site-packages/sklearn/svm/_base.py:1244: ConvergenceWarning: Liblinear failed to converge, increase the number of iterations.\n"
     ]
    },
    {
     "name": "stdout",
     "output_type": "stream",
     "text": [
      "K = 100.0\n"
     ]
    }
   ],
   "source": [
    "from sklearn.model_selection import KFold\n",
    "from sklearn.decomposition import PCA\n",
    "\n",
    "rango = np.array([10**(i-3) for i in range(6)])\n",
    "\n",
    "k_acc_top_train = np.zeros((len(rango), 2))\n",
    "k_acc_top_test = np.zeros((len(rango), 2))\n",
    "\n",
    "\n",
    "j = 0\n",
    "for k in rango:\n",
    "    kfold=KFold(n_splits=5)\n",
    "\n",
    "    train_acc = np.zeros(5)\n",
    "    test_acc = np.zeros(5)\n",
    "\n",
    "    i = 0\n",
    "    for train_index, test_index in kfold.split(data_matrix):\n",
    "        train = data_matrix[train_index, :]\n",
    "        test = data_matrix[test_index, :]\n",
    "\n",
    "\n",
    "        model = sklearn.svm.LinearSVC(random_state=0, tol=1e-5, C=k, multi_class=\"crammer_singer\")\n",
    "        \n",
    "        model.fit(train[:,:vertor_lenght], train[:,vertor_lenght+2])\n",
    "        \n",
    "        \n",
    "        pred_train = model.predict(train[:,:vertor_lenght])\n",
    "        pred_test = model.predict(test[:,:vertor_lenght])\n",
    "        \n",
    "        \n",
    "        train_acc[i] = sum(pred_train==train[:,vertor_lenght+2])/len(pred_train)\n",
    "        test_acc[i] = sum(pred_test==test[:,vertor_lenght+2])/len(pred_test)\n",
    "\n",
    "        i+=1\n",
    "\n",
    "    k_acc_top_train[j, 0] = train_acc.mean(axis=0)\n",
    "    k_acc_top_train[j, 1] = train_acc.std(axis=0)\n",
    "\n",
    "    k_acc_top_test[j, 0] = test_acc.mean(axis=0)\n",
    "    k_acc_top_test[j, 1] = test_acc.std(axis=0)\n",
    "    \n",
    "    pd.DataFrame(k_acc_top_train, columns=[\"mean\", \"std\"]).to_csv(\"k_acc_top_train_svm.csv\", index=False)\n",
    "    pd.DataFrame(k_acc_top_test, columns=[\"mean\", \"std\"]).to_csv(\"k_acc_top_test_svm.csv\", index=False)\n",
    "    \n",
    "\n",
    "    j+=1\n",
    "    print(\"K =\", k)\n",
    "    "
   ]
  },
  {
   "cell_type": "code",
   "execution_count": 23,
   "metadata": {
    "scrolled": false
   },
   "outputs": [
    {
     "data": {
      "image/png": "[encoded data removed]",
      "text/plain": [
       "<Figure size 640x480 with 1 Axes>"
      ]
     },
     "metadata": {},
     "output_type": "display_data"
    },
    {
     "data": {
      "text/plain": [
       "<ggplot: (8773231115394)>"
      ]
     },
     "execution_count": 23,
     "metadata": {},
     "output_type": "execute_result"
    }
   ],
   "source": [
    "from numpy import size\n",
    "from plotnine import *\n",
    "\n",
    "p1 = (\n",
    "    ggplot()+\n",
    "    aes(x=rango)+\n",
    "    geom_line(aes(y=k_acc_top_test[:,0]), color=\"red\")+\n",
    "    geom_errorbar(aes(ymin = k_acc_top_test[:,0]-k_acc_top_test[:,1], ymax = k_acc_top_test[:,0]+k_acc_top_test[:,1]), color=\"red\")+\n",
    "    geom_line(aes(y=k_acc_top_train[:,0]), color='blue')+\n",
    "    geom_errorbar(aes(ymin = k_acc_top_train[:,0]-k_acc_top_train[:,1], ymax = k_acc_top_train[:,0]+k_acc_top_train[:,1]), color='blue')+\n",
    "    xlab(\"max_depth\")+\n",
    "    ylab(\"Accuracy\")+\n",
    "    ggtitle(\"\")+\n",
    "    theme_bw()\n",
    ")\n",
    "\n",
    "p1"
   ]
  },
  {
   "cell_type": "code",
   "execution_count": 24,
   "metadata": {
    "scrolled": false
   },
   "outputs": [],
   "source": [
    "from sklearn.model_selection import KFold\n",
    "\n",
    "kfold=KFold(n_splits=5)\n",
    "\n",
    "train_acc = np.zeros(5)\n",
    "test_acc = np.zeros(5)\n",
    "\n",
    "tops=(0,2,4,9,49)\n",
    "\n",
    "i=0\n",
    "\n",
    "for train_index, test_index in kfold.split(data_matrix):\n",
    "    train = data_matrix[train_index, :]\n",
    "    test = data_matrix[test_index, :]\n",
    "\n",
    "    \n",
    "    # Model creation\n",
    "    model = sklearn.linear_model.LogisticRegression(random_state=0, multi_class=\"multinomial\")\n",
    "    \n",
    "\n",
    "    model.fit(train[:,:vertor_lenght], train[:,vertor_lenght+2])\n",
    "\n",
    "\n",
    "    pred_train = model.predict(train[:,:vertor_lenght])\n",
    "    pred_test = model.predict(test[:,:vertor_lenght])\n",
    "\n",
    "    train_acc[i] = sum(pred_train==train[:,vertor_lenght+2])/len(pred_train)\n",
    "    test_acc[i] = sum(pred_test==test[:,vertor_lenght+2])/len(pred_test)\n",
    "\n",
    "    i+=1\n"
   ]
  },
  {
   "cell_type": "code",
   "execution_count": 25,
   "metadata": {},
   "outputs": [
    {
     "name": "stdout",
     "output_type": "stream",
     "text": [
      "0.5854883796346148\n",
      "0.0036850082623672608\n"
     ]
    }
   ],
   "source": [
    "print(train_acc.mean())\n",
    "print(train_acc.std())"
   ]
  },
  {
   "cell_type": "code",
   "execution_count": 26,
   "metadata": {},
   "outputs": [
    {
     "name": "stdout",
     "output_type": "stream",
     "text": [
      "0.539825903556366\n",
      "0.007543275992995028\n"
     ]
    }
   ],
   "source": [
    "print(test_acc.mean())\n",
    "print(test_acc.std())"
   ]
  },
  {
   "cell_type": "code",
   "execution_count": 27,
   "metadata": {},
   "outputs": [
    {
     "name": "stderr",
     "output_type": "stream",
     "text": [
      "/home/jsmf/.local/lib/python3.10/site-packages/sklearn/linear_model/_logistic.py:458: ConvergenceWarning: lbfgs failed to converge (status=1):\n",
      "STOP: TOTAL NO. of ITERATIONS REACHED LIMIT.\n",
      "\n",
      "Increase the number of iterations (max_iter) or scale the data as shown in:\n",
      "    https://scikit-learn.org/stable/modules/preprocessing.html\n",
      "Please also refer to the documentation for alternative solver options:\n",
      "    https://scikit-learn.org/stable/modules/linear_model.html#logistic-regression\n",
      "/home/jsmf/.local/lib/python3.10/site-packages/sklearn/linear_model/_logistic.py:458: ConvergenceWarning: lbfgs failed to converge (status=1):\n",
      "STOP: TOTAL NO. of ITERATIONS REACHED LIMIT.\n",
      "\n",
      "Increase the number of iterations (max_iter) or scale the data as shown in:\n",
      "    https://scikit-learn.org/stable/modules/preprocessing.html\n",
      "Please also refer to the documentation for alternative solver options:\n",
      "    https://scikit-learn.org/stable/modules/linear_model.html#logistic-regression\n",
      "/home/jsmf/.local/lib/python3.10/site-packages/sklearn/linear_model/_logistic.py:458: ConvergenceWarning: lbfgs failed to converge (status=1):\n",
      "STOP: TOTAL NO. of ITERATIONS REACHED LIMIT.\n",
      "\n",
      "Increase the number of iterations (max_iter) or scale the data as shown in:\n",
      "    https://scikit-learn.org/stable/modules/preprocessing.html\n",
      "Please also refer to the documentation for alternative solver options:\n",
      "    https://scikit-learn.org/stable/modules/linear_model.html#logistic-regression\n",
      "/home/jsmf/.local/lib/python3.10/site-packages/sklearn/linear_model/_logistic.py:458: ConvergenceWarning: lbfgs failed to converge (status=1):\n",
      "STOP: TOTAL NO. of ITERATIONS REACHED LIMIT.\n",
      "\n",
      "Increase the number of iterations (max_iter) or scale the data as shown in:\n",
      "    https://scikit-learn.org/stable/modules/preprocessing.html\n",
      "Please also refer to the documentation for alternative solver options:\n",
      "    https://scikit-learn.org/stable/modules/linear_model.html#logistic-regression\n",
      "/home/jsmf/.local/lib/python3.10/site-packages/sklearn/linear_model/_logistic.py:458: ConvergenceWarning: lbfgs failed to converge (status=1):\n",
      "STOP: TOTAL NO. of ITERATIONS REACHED LIMIT.\n",
      "\n",
      "Increase the number of iterations (max_iter) or scale the data as shown in:\n",
      "    https://scikit-learn.org/stable/modules/preprocessing.html\n",
      "Please also refer to the documentation for alternative solver options:\n",
      "    https://scikit-learn.org/stable/modules/linear_model.html#logistic-regression\n"
     ]
    },
    {
     "name": "stdout",
     "output_type": "stream",
     "text": [
      "K = 0.001\n",
      "K = 0.01\n",
      "K = 0.1\n",
      "K = 1.0\n"
     ]
    },
    {
     "name": "stderr",
     "output_type": "stream",
     "text": [
      "/home/jsmf/.local/lib/python3.10/site-packages/sklearn/linear_model/_logistic.py:458: ConvergenceWarning: lbfgs failed to converge (status=1):\n",
      "STOP: TOTAL NO. of ITERATIONS REACHED LIMIT.\n",
      "\n",
      "Increase the number of iterations (max_iter) or scale the data as shown in:\n",
      "    https://scikit-learn.org/stable/modules/preprocessing.html\n",
      "Please also refer to the documentation for alternative solver options:\n",
      "    https://scikit-learn.org/stable/modules/linear_model.html#logistic-regression\n",
      "/home/jsmf/.local/lib/python3.10/site-packages/sklearn/linear_model/_logistic.py:458: ConvergenceWarning: lbfgs failed to converge (status=1):\n",
      "STOP: TOTAL NO. of ITERATIONS REACHED LIMIT.\n",
      "\n",
      "Increase the number of iterations (max_iter) or scale the data as shown in:\n",
      "    https://scikit-learn.org/stable/modules/preprocessing.html\n",
      "Please also refer to the documentation for alternative solver options:\n",
      "    https://scikit-learn.org/stable/modules/linear_model.html#logistic-regression\n",
      "/home/jsmf/.local/lib/python3.10/site-packages/sklearn/linear_model/_logistic.py:458: ConvergenceWarning: lbfgs failed to converge (status=1):\n",
      "STOP: TOTAL NO. of ITERATIONS REACHED LIMIT.\n",
      "\n",
      "Increase the number of iterations (max_iter) or scale the data as shown in:\n",
      "    https://scikit-learn.org/stable/modules/preprocessing.html\n",
      "Please also refer to the documentation for alternative solver options:\n",
      "    https://scikit-learn.org/stable/modules/linear_model.html#logistic-regression\n",
      "/home/jsmf/.local/lib/python3.10/site-packages/sklearn/linear_model/_logistic.py:458: ConvergenceWarning: lbfgs failed to converge (status=1):\n",
      "STOP: TOTAL NO. of ITERATIONS REACHED LIMIT.\n",
      "\n",
      "Increase the number of iterations (max_iter) or scale the data as shown in:\n",
      "    https://scikit-learn.org/stable/modules/preprocessing.html\n",
      "Please also refer to the documentation for alternative solver options:\n",
      "    https://scikit-learn.org/stable/modules/linear_model.html#logistic-regression\n",
      "/home/jsmf/.local/lib/python3.10/site-packages/sklearn/linear_model/_logistic.py:458: ConvergenceWarning: lbfgs failed to converge (status=1):\n",
      "STOP: TOTAL NO. of ITERATIONS REACHED LIMIT.\n",
      "\n",
      "Increase the number of iterations (max_iter) or scale the data as shown in:\n",
      "    https://scikit-learn.org/stable/modules/preprocessing.html\n",
      "Please also refer to the documentation for alternative solver options:\n",
      "    https://scikit-learn.org/stable/modules/linear_model.html#logistic-regression\n"
     ]
    },
    {
     "name": "stdout",
     "output_type": "stream",
     "text": [
      "K = 10.0\n"
     ]
    },
    {
     "name": "stderr",
     "output_type": "stream",
     "text": [
      "/home/jsmf/.local/lib/python3.10/site-packages/sklearn/linear_model/_logistic.py:458: ConvergenceWarning: lbfgs failed to converge (status=1):\n",
      "STOP: TOTAL NO. of ITERATIONS REACHED LIMIT.\n",
      "\n",
      "Increase the number of iterations (max_iter) or scale the data as shown in:\n",
      "    https://scikit-learn.org/stable/modules/preprocessing.html\n",
      "Please also refer to the documentation for alternative solver options:\n",
      "    https://scikit-learn.org/stable/modules/linear_model.html#logistic-regression\n",
      "/home/jsmf/.local/lib/python3.10/site-packages/sklearn/linear_model/_logistic.py:458: ConvergenceWarning: lbfgs failed to converge (status=1):\n",
      "STOP: TOTAL NO. of ITERATIONS REACHED LIMIT.\n",
      "\n",
      "Increase the number of iterations (max_iter) or scale the data as shown in:\n",
      "    https://scikit-learn.org/stable/modules/preprocessing.html\n",
      "Please also refer to the documentation for alternative solver options:\n",
      "    https://scikit-learn.org/stable/modules/linear_model.html#logistic-regression\n",
      "/home/jsmf/.local/lib/python3.10/site-packages/sklearn/linear_model/_logistic.py:458: ConvergenceWarning: lbfgs failed to converge (status=1):\n",
      "STOP: TOTAL NO. of ITERATIONS REACHED LIMIT.\n",
      "\n",
      "Increase the number of iterations (max_iter) or scale the data as shown in:\n",
      "    https://scikit-learn.org/stable/modules/preprocessing.html\n",
      "Please also refer to the documentation for alternative solver options:\n",
      "    https://scikit-learn.org/stable/modules/linear_model.html#logistic-regression\n",
      "/home/jsmf/.local/lib/python3.10/site-packages/sklearn/linear_model/_logistic.py:458: ConvergenceWarning: lbfgs failed to converge (status=1):\n",
      "STOP: TOTAL NO. of ITERATIONS REACHED LIMIT.\n",
      "\n",
      "Increase the number of iterations (max_iter) or scale the data as shown in:\n",
      "    https://scikit-learn.org/stable/modules/preprocessing.html\n",
      "Please also refer to the documentation for alternative solver options:\n",
      "    https://scikit-learn.org/stable/modules/linear_model.html#logistic-regression\n",
      "/home/jsmf/.local/lib/python3.10/site-packages/sklearn/linear_model/_logistic.py:458: ConvergenceWarning: lbfgs failed to converge (status=1):\n",
      "STOP: TOTAL NO. of ITERATIONS REACHED LIMIT.\n",
      "\n",
      "Increase the number of iterations (max_iter) or scale the data as shown in:\n",
      "    https://scikit-learn.org/stable/modules/preprocessing.html\n",
      "Please also refer to the documentation for alternative solver options:\n",
      "    https://scikit-learn.org/stable/modules/linear_model.html#logistic-regression\n"
     ]
    },
    {
     "name": "stdout",
     "output_type": "stream",
     "text": [
      "K = 100.0\n"
     ]
    }
   ],
   "source": [
    "from sklearn.model_selection import KFold\n",
    "from sklearn.decomposition import PCA\n",
    "\n",
    "rango = np.array([10**(i-3) for i in range(6)])\n",
    "\n",
    "k_acc_top_train = np.zeros((len(rango), 2))\n",
    "k_acc_top_test = np.zeros((len(rango), 2))\n",
    "\n",
    "\n",
    "j = 0\n",
    "for k in rango:\n",
    "    kfold=KFold(n_splits=5)\n",
    "\n",
    "    train_acc = np.zeros(5)\n",
    "    test_acc = np.zeros(5)\n",
    "\n",
    "    i = 0\n",
    "    for train_index, test_index in kfold.split(data_matrix):\n",
    "        train = data_matrix[train_index, :]\n",
    "        test = data_matrix[test_index, :]\n",
    "\n",
    "        model = sklearn.linear_model.LogisticRegression(random_state=0, C=k, multi_class=\"multinomial\")\n",
    "        \n",
    "        model.fit(train[:,:vertor_lenght], train[:,vertor_lenght+2])\n",
    "        \n",
    "        \n",
    "        pred_train = model.predict(train[:,:vertor_lenght])\n",
    "        pred_test = model.predict(test[:,:vertor_lenght])\n",
    "        \n",
    "        \n",
    "        train_acc[i] = sum(pred_train==train[:,vertor_lenght+2])/len(pred_train)\n",
    "        test_acc[i] = sum(pred_test==test[:,vertor_lenght+2])/len(pred_test)\n",
    "\n",
    "        i+=1\n",
    "\n",
    "    k_acc_top_train[j, 0] = train_acc.mean(axis=0)\n",
    "    k_acc_top_train[j, 1] = train_acc.std(axis=0)\n",
    "\n",
    "    k_acc_top_test[j, 0] = test_acc.mean(axis=0)\n",
    "    k_acc_top_test[j, 1] = test_acc.std(axis=0)\n",
    "    \n",
    "    pd.DataFrame(k_acc_top_train, columns=[\"mean\", \"std\"]).to_csv(\"k_acc_top_train_logreg.csv\", index=False)\n",
    "    pd.DataFrame(k_acc_top_test, columns=[\"mean\", \"std\"]).to_csv(\"k_acc_top_test_logreg.csv\", index=False)\n",
    "    \n",
    "\n",
    "    j+=1\n",
    "    print(\"K =\", k)\n",
    "    "
   ]
  },
  {
   "cell_type": "code",
   "execution_count": 28,
   "metadata": {
    "scrolled": false
   },
   "outputs": [
    {
     "data": {
      "image/png": "[encoded data removed]",
      "text/plain": [
       "<Figure size 640x480 with 1 Axes>"
      ]
     },
     "metadata": {},
     "output_type": "display_data"
    },
    {
     "data": {
      "text/plain": [
       "<ggplot: (8773231156110)>"
      ]
     },
     "execution_count": 28,
     "metadata": {},
     "output_type": "execute_result"
    }
   ],
   "source": [
    "from numpy import size\n",
    "from plotnine import *\n",
    "\n",
    "p1 = (\n",
    "    ggplot()+\n",
    "    aes(x=rango)+\n",
    "    geom_line(aes(y=k_acc_top_test[:,0]), color=\"red\")+\n",
    "    geom_errorbar(aes(ymin = k_acc_top_test[:,0]-k_acc_top_test[:,1], ymax = k_acc_top_test[:,0]+k_acc_top_test[:,1]), color=\"red\")+\n",
    "    geom_line(aes(y=k_acc_top_train[:,0]), color='blue')+\n",
    "    geom_errorbar(aes(ymin = k_acc_top_train[:,0]-k_acc_top_train[:,1], ymax = k_acc_top_train[:,0]+k_acc_top_train[:,1]), color='blue')+\n",
    "    xlab(\"max_depth\")+\n",
    "    ylab(\"Accuracy\")+\n",
    "    ggtitle(\"\")+\n",
    "    theme_bw()\n",
    ")\n",
    "\n",
    "p1"
   ]
  },
  {
   "cell_type": "code",
   "execution_count": null,
   "metadata": {},
   "outputs": [],
   "source": []
  }
 ],
 "metadata": {
  "kernelspec": {
   "display_name": "Python 3 (ipykernel)",
   "language": "python",
   "name": "python3"
  },
  "language_info": {
   "codemirror_mode": {
    "name": "ipython",
    "version": 3
   },
   "file_extension": ".py",
   "mimetype": "text/x-python",
   "name": "python",
   "nbconvert_exporter": "python",
   "pygments_lexer": "ipython3",
   "version": "3.10.6"
  },
  "vscode": {
   "interpreter": {
    "hash": "39d3428004f928037450bcaf2ccddacfbb5d68c6243c2762d0ea346348cf1412"
   }
  }
 },
 "nbformat": 4,
 "nbformat_minor": 2
}
