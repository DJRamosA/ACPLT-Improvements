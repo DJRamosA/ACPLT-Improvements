{
 "cells": [
  {
   "cell_type": "code",
   "execution_count": 1,
   "metadata": {},
   "outputs": [],
   "source": [
    "import pandas as pd\n",
    "import numpy as np\n",
    "import spacy\n",
    "import gensim\n",
    "import random\n",
    "import time\n",
    "\n",
    "# Created functions\n",
    "from text_cleaning import TextCleaner\n",
    "from Vectorize import to_vector\n",
    "\n",
    "# Set of the random seed for the kmeans model\n",
    "random.seed(0)"
   ]
  },
  {
   "attachments": {},
   "cell_type": "markdown",
   "metadata": {},
   "source": [
    "# Global Variables "
   ]
  },
  {
   "cell_type": "code",
   "execution_count": 2,
   "metadata": {},
   "outputs": [],
   "source": [
    "from hydra import initialize, compose\n",
    "\n",
    "with initialize(version_base=None, config_path=\"conf\"):\n",
    "    cfg=compose(config_name=\"main.yaml\")"
   ]
  },
  {
   "attachments": {},
   "cell_type": "markdown",
   "metadata": {},
   "source": [
    "# Data Import"
   ]
  },
  {
   "cell_type": "code",
   "execution_count": 3,
   "metadata": {},
   "outputs": [],
   "source": [
    "# Data import\n",
    "# Relative Path of the dataset, change for your dataset\n",
    "dataset_name = \"cpn27\"\n",
    "\n",
    "if dataset_name == \"cpn27\":\n",
    "    data = pd.read_csv(cfg.path_data.cpn27, delimiter=\",\")\n",
    "elif dataset_name == \"cpn120\":\n",
    "    data = pd.read_csv(cfg.path_data.cpn120, delimiter=\",\")\n",
    "# else:\n",
    "#     data = pd.read_csv(r'your-path/your-file.csv', delimiter=\",\")\n"
   ]
  },
  {
   "attachments": {},
   "cell_type": "markdown",
   "metadata": {},
   "source": [
    "# Enviroment Configuration"
   ]
  },
  {
   "cell_type": "code",
   "execution_count": 4,
   "metadata": {},
   "outputs": [],
   "source": [
    "# Import of the model of the spanish billion words embeddings\n",
    "model = gensim.models.KeyedVectors.load_word2vec_format( \n",
    "    cfg.path_embedding.word2vec, # Relative path of the vector\n",
    "    binary=True # The model is in binary format\n",
    ") \n",
    "\n",
    "nlp = spacy.load(cfg.enviroment.nlp)"
   ]
  },
  {
   "attachments": {},
   "cell_type": "markdown",
   "metadata": {},
   "source": [
    "# Text Cleaning"
   ]
  },
  {
   "cell_type": "code",
   "execution_count": 5,
   "metadata": {},
   "outputs": [],
   "source": [
    "Cln = TextCleaner(cfg.enviroment.nlp, cfg.enviroment.language)"
   ]
  },
  {
   "cell_type": "code",
   "execution_count": 6,
   "metadata": {},
   "outputs": [
    {
     "name": "stdout",
     "output_type": "stream",
     "text": [
      "Execution time: 17.552050590515137\n"
     ]
    }
   ],
   "source": [
    "# Function to apply to the dataset, change between \"normalize\", \"lemmatize\" or \"stemming\"\n",
    "\n",
    "func = Cln.normalize\n",
    "\n",
    "data_copy = data.copy()\n",
    "\n",
    "\n",
    "start = time.time()\n",
    "data_copy.iloc[:, 1] = data_copy.iloc[:,1].apply(func)\n",
    "end = time.time()\n",
    "\n",
    "print(\"Execution time:\", end-start)"
   ]
  },
  {
   "attachments": {},
   "cell_type": "markdown",
   "metadata": {},
   "source": [
    "# Word Embedding"
   ]
  },
  {
   "cell_type": "code",
   "execution_count": 7,
   "metadata": {},
   "outputs": [
    {
     "name": "stdout",
     "output_type": "stream",
     "text": [
      "Execution time: 0.5040445327758789\n"
     ]
    }
   ],
   "source": [
    "# Timer\n",
    "start = time.time()\n",
    "\n",
    "# Creation of a matrix full of 0 to save the vectors of each feature\n",
    "descriptions_matrix = np.zeros( \n",
    "    (\n",
    "        data_copy.shape[0], # the number of data points\n",
    "        cfg.params.vector_lenght  # the number of components of the word embedding\n",
    "    )\n",
    ")\n",
    "\n",
    "# Matrix filling with the vectors of each point\n",
    "for i,description in enumerate(data_copy.iloc[:,1]):\n",
    "    descriptions_matrix[i,] = to_vector(description, model, cfg.params.vector_lenght)\n",
    "\n",
    "# Concatenate the matrix with the data of each observation\n",
    "data_matrix = np.concatenate([descriptions_matrix,data_copy], axis=1)\n",
    "\n",
    "# Remove of the 'Nan' values in the data\n",
    "data_matrix = data_matrix[~pd.isnull(data_matrix[:,:cfg.params.vector_lenght]).any(axis=1)]\n",
    "\n",
    "\n",
    "end = time.time()\n",
    "print(\"Execution time:\", end-start)"
   ]
  },
  {
   "cell_type": "code",
   "execution_count": 8,
   "metadata": {},
   "outputs": [
    {
     "name": "stderr",
     "output_type": "stream",
     "text": [
      "c:\\Users\\dra98\\OneDrive\\Documentos\\Trabajo\\Doctorado\\Codigo\\myvenv\\lib\\site-packages\\sklearn\\model_selection\\_split.py:700: UserWarning: The least populated class in y has only 1 members, which is less than n_splits=5.\n",
      "  warnings.warn(\n",
      "c:\\Users\\dra98\\OneDrive\\Documentos\\Trabajo\\Doctorado\\Codigo\\myvenv\\lib\\site-packages\\sklearn\\model_selection\\_split.py:700: UserWarning: The least populated class in y has only 1 members, which is less than n_splits=5.\n",
      "  warnings.warn(\n"
     ]
    },
    {
     "data": {
      "text/plain": [
       "<Experimentations.ParamSearch at 0x173c066f8e0>"
      ]
     },
     "execution_count": 8,
     "metadata": {},
     "output_type": "execute_result"
    }
   ],
   "source": [
    "# from sklearn.model_selection import GridSearchCV\n",
    "from Experimentations import ParamSearch\n",
    "# from AC_PLT import AC_PLT\n",
    "from sklearn.model_selection import KFold\n",
    "from sklearn.naive_bayes import GaussianNB\n",
    "\n",
    "kfold=KFold(n_splits=5)\n",
    "\n",
    "parameters = {'var_smoothing': np.geomspace(1e-06, 1e+02, num=9)}\n",
    "proc = GaussianNB()\n",
    "\n",
    "clf = ParamSearch(proc, parameters)\n",
    "clf.fit(data_matrix[:, :cfg.params.vector_lenght], data_matrix[:, cfg.params.vector_lenght+2])"
   ]
  },
  {
   "cell_type": "code",
   "execution_count": 9,
   "metadata": {},
   "outputs": [
    {
     "data": {
      "text/plain": [
       "{'param_grid': [{'var_smoothing': 1e-09}, {'var_smoothing': 1}],\n",
       " 'train_mean': array([0.87925235, 0.72691304]),\n",
       " 'train_std': array([0.00527944, 0.00822296]),\n",
       " 'test_mean': array([0.40502525, 0.42244174]),\n",
       " 'test_std': array([0.01137766, 0.01064809])}"
      ]
     },
     "execution_count": 9,
     "metadata": {},
     "output_type": "execute_result"
    }
   ],
   "source": [
    "clf.cv_results_"
   ]
  }
 ],
 "metadata": {
  "kernelspec": {
   "display_name": "myvenv",
   "language": "python",
   "name": "python3"
  },
  "language_info": {
   "codemirror_mode": {
    "name": "ipython",
    "version": 3
   },
   "file_extension": ".py",
   "mimetype": "text/x-python",
   "name": "python",
   "nbconvert_exporter": "python",
   "pygments_lexer": "ipython3",
   "version": "3.10.9"
  },
  "orig_nbformat": 4
 },
 "nbformat": 4,
 "nbformat_minor": 2
}
