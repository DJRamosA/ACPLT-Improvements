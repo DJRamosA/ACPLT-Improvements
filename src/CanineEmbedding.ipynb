{
 "cells": [
  {
   "cell_type": "code",
   "execution_count": null,
   "metadata": {},
   "outputs": [],
   "source": [
    "import pandas as pd\n",
    "import numpy as np\n",
    "import spacy\n",
    "import gensim\n",
    "import random\n",
    "import time\n",
    "\n",
    "# Sentence Embedding\n",
    "from transformers import CanineTokenizer, CanineModel\n",
    "\n",
    "\n",
    "# Set of the random seed for the kmeans model\n",
    "random.seed(0)"
   ]
  },
  {
   "cell_type": "code",
   "execution_count": null,
   "metadata": {},
   "outputs": [],
   "source": [
    "model = CanineModel.from_pretrained('google/canine-s')\n",
    "tokenizer = CanineTokenizer.from_pretrained('google/canine-s')\n",
    "\n",
    "inputs = [\"Hola mundo\", \"Animal de cuatro patas\"]\n",
    "encoding = tokenizer(inputs, padding=\"longest\", truncation=True, return_tensors=\"pt\")\n",
    "\n",
    "outputs = model(**encoding) # forward pass\n",
    "pooled_output = outputs.pooler_output\n",
    "sequence_output = outputs.last_hidden_state"
   ]
  }
 ],
 "metadata": {
  "language_info": {
   "name": "python"
  },
  "orig_nbformat": 4
 },
 "nbformat": 4,
 "nbformat_minor": 2
}
