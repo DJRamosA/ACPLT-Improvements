{
 "cells": [
  {
   "cell_type": "code",
   "execution_count": 1,
   "metadata": {},
   "outputs": [
    {
     "name": "stderr",
     "output_type": "stream",
     "text": [
      "c:\\Users\\dra98\\OneDrive\\Documentos\\Trabajo\\Doctorado\\Codigo\\myvenv\\lib\\site-packages\\tqdm\\auto.py:21: TqdmWarning: IProgress not found. Please update jupyter and ipywidgets. See https://ipywidgets.readthedocs.io/en/stable/user_install.html\n",
      "  from .autonotebook import tqdm as notebook_tqdm\n"
     ]
    }
   ],
   "source": [
    "import pandas as pd\n",
    "import numpy as np\n",
    "import random\n",
    "import time\n",
    "\n",
    "# Sentence Embedding\n",
    "from transformers import CanineTokenizer, CanineModel\n",
    "\n",
    "\n",
    "# Set of the random seed for the kmeans model\n",
    "random.seed(0)"
   ]
  },
  {
   "cell_type": "markdown",
   "metadata": {},
   "source": [
    "# Variables "
   ]
  },
  {
   "cell_type": "code",
   "execution_count": 2,
   "metadata": {},
   "outputs": [],
   "source": [
    "vector_length = 768"
   ]
  },
  {
   "cell_type": "markdown",
   "metadata": {},
   "source": [
    "# Model"
   ]
  },
  {
   "cell_type": "code",
   "execution_count": 3,
   "metadata": {},
   "outputs": [
    {
     "name": "stderr",
     "output_type": "stream",
     "text": [
      "Using unk_token, but it is not set yet.\n",
      "Using unk_token, but it is not set yet.\n",
      "Using unk_token, but it is not set yet.\n",
      "Using unk_token, but it is not set yet.\n",
      "Using unk_token, but it is not set yet.\n",
      "Using unk_token, but it is not set yet.\n",
      "Using unk_token, but it is not set yet.\n",
      "Using unk_token, but it is not set yet.\n"
     ]
    }
   ],
   "source": [
    "model = CanineModel.from_pretrained('google/canine-s')\n",
    "tokenizer = CanineTokenizer.from_pretrained('google/canine-s')"
   ]
  },
  {
   "cell_type": "markdown",
   "metadata": {},
   "source": [
    "# Data Import"
   ]
  },
  {
   "cell_type": "code",
   "execution_count": 4,
   "metadata": {},
   "outputs": [],
   "source": [
    "# Data import\n",
    "# Relative Path of the dataset, change for your dataset\n",
    "dataset_name = \"cpn27\"\n",
    "file_path = '../data/raw_dataset/'\n",
    "\n",
    "data = pd.read_csv(file_path+'CPN27.csv', delimiter=\",\")\n"
   ]
  },
  {
   "cell_type": "code",
   "execution_count": null,
   "metadata": {},
   "outputs": [],
   "source": [
    "# Timer\n",
    "start = time.time()\n",
    "\n",
    "descriptions_matrix = np.zeros( # creatign an empty matrix\n",
    "    (\n",
    "        len(data.iloc[:,1]),          # the number of data points\n",
    "        vector_length       # the number of components of the word embedding\n",
    "    )\n",
    ")\n",
    "\n",
    "for i,description in enumerate(data.iloc[:,1]):\n",
    "    vector = model(**tokenizer(description, padding=\"max_length\", truncation=True, return_tensors=\"pt\")).pooler_output.detach().numpy()[0]\n",
    "    descriptions_matrix[i,] = vector\n",
    "# Concatenate the matrix with the data of each observation\n",
    "\n",
    "data_matrix = np.concatenate([descriptions_matrix,data.iloc[:,:]], axis=1)\n",
    "\n",
    "end = time.time()\n",
    "print(\"Execution time:\", end-start)\n",
    "\n",
    "pd.DataFrame(data_matrix).to_csv(\"{}_canine_raw.csv\".format(dataset_name))"
   ]
  },
  {
   "cell_type": "code",
   "execution_count": null,
   "metadata": {},
   "outputs": [],
   "source": [
    "# Data import\n",
    "# Relative Path of the dataset, change for your dataset\n",
    "dataset_name = \"cpn120\"\n",
    "file_path = '../data/raw_dataset/'\n",
    "\n",
    "data = pd.read_csv(file_path+'CPN120.csv', delimiter=\",\")"
   ]
  },
  {
   "cell_type": "code",
   "execution_count": null,
   "metadata": {},
   "outputs": [],
   "source": [
    "# Timer\n",
    "start = time.time()\n",
    "\n",
    "descriptions_matrix = np.zeros( # creatign an empty matrix\n",
    "    (\n",
    "        len(data.iloc[:,1]),          # the number of data points\n",
    "        vector_length       # the number of components of the word embedding\n",
    "    )\n",
    ")\n",
    "\n",
    "for i,description in enumerate(data.iloc[:,1]):\n",
    "    vector = model(**tokenizer(description, padding=\"max_length\", truncation=True, return_tensors=\"pt\")).pooler_output.detach().numpy()[0]\n",
    "    descriptions_matrix[i,] = vector\n",
    "# Concatenate the matrix with the data of each observation\n",
    "\n",
    "data_matrix = np.concatenate([descriptions_matrix,data.iloc[:,:]], axis=1)\n",
    "\n",
    "end = time.time()\n",
    "print(\"Execution time:\", end-start)\n",
    "\n",
    "pd.DataFrame(data_matrix).to_csv(\"{}_canine_raw.csv\".format(dataset_name))"
   ]
  }
 ],
 "metadata": {
  "kernelspec": {
   "display_name": "myvenv",
   "language": "python",
   "name": "python3"
  },
  "language_info": {
   "codemirror_mode": {
    "name": "ipython",
    "version": 3
   },
   "file_extension": ".py",
   "mimetype": "text/x-python",
   "name": "python",
   "nbconvert_exporter": "python",
   "pygments_lexer": "ipython3",
   "version": "3.10.9"
  },
  "orig_nbformat": 4
 },
 "nbformat": 4,
 "nbformat_minor": 2
}
